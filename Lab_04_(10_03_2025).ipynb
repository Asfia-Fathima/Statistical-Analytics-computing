{
  "nbformat": 4,
  "nbformat_minor": 0,
  "metadata": {
    "colab": {
      "provenance": [],
      "authorship_tag": "ABX9TyMI5tV7xl0MXsMfyKl1ZMuK",
      "include_colab_link": true
    },
    "kernelspec": {
      "name": "python3",
      "display_name": "Python 3"
    },
    "language_info": {
      "name": "python"
    }
  },
  "cells": [
    {
      "cell_type": "markdown",
      "metadata": {
        "id": "view-in-github",
        "colab_type": "text"
      },
      "source": [
        "<a href=\"https://colab.research.google.com/github/Asfia-Fathima/Statistical-Analytics-computing/blob/main/lab_4_(10_03_2025).ipynb\" target=\"_parent\"><img src=\"https://colab.research.google.com/assets/colab-badge.svg\" alt=\"Open In Colab\"/></a>"
      ]
    },
    {
      "cell_type": "markdown",
      "source": [
        "This contains-\n",
        "\n",
        "~Perform the following Boolean functions(any,all,where)\n",
        "\n",
        "~Perform the following sorting methods (argsort,unique)\n",
        "\n"
      ],
      "metadata": {
        "id": "Tc8fgG2z5Nf8"
      }
    },
    {
      "cell_type": "code",
      "execution_count": 1,
      "metadata": {
        "colab": {
          "base_uri": "https://localhost:8080/"
        },
        "id": "DUyLdLAJ4zLx",
        "outputId": "bf02522b-c7ce-42ec-9abf-4084bc1170ac"
      },
      "outputs": [
        {
          "output_type": "stream",
          "name": "stdout",
          "text": [
            "True\n",
            "[True, False, True]\n",
            "True\n",
            "True\n",
            "['low' 'low' 'high' 'high' 'high']\n"
          ]
        }
      ],
      "source": [
        "##boolean functions\n",
        "import numpy as np\n",
        "##”ALL”\n",
        "newarr=[1,2,3]\n",
        "boolarr=[True,False,True]\n",
        "resnewarr=np.all(newarr)\n",
        "print(resnewarr)\n",
        "resboolarr=np.all(boolarr)\n",
        "print(boolarr)\n",
        "\n",
        "##”ANY”\n",
        "import numpy as np\n",
        "newarr=[1,2,3]\n",
        "boolarr=[True,False,True]\n",
        "resnewarr=np.any(newarr)\n",
        "print(resnewarr)\n",
        "resboolarr=np.any(boolarr)\n",
        "print(resboolarr)\n",
        "\n",
        "#”WHERE”\n",
        "import numpy as np\n",
        "arr=np.array([4,5,6,7,8])\n",
        "result=np.where(arr>5,'high','low')\n",
        "print(result)\n"
      ]
    },
    {
      "cell_type": "code",
      "source": [
        "##sorting methods\n",
        "a=[6,5,4,3,2,1]\n",
        "print(np.sort(a))\n",
        "\n",
        "import numpy as np\n",
        "a=[5,4,3,2,1]\n",
        "print(np.argsort(a))\n",
        "\n",
        "\n",
        "import numpy as np\n",
        "a=[5,4,3,2,1,2,4,3,5,6,9]\n",
        "print(np.unique(a))\n"
      ],
      "metadata": {
        "colab": {
          "base_uri": "https://localhost:8080/"
        },
        "id": "anbYDrtI5L7P",
        "outputId": "0cea0840-9c70-4dbe-aad2-c3ecc0770994"
      },
      "execution_count": 2,
      "outputs": [
        {
          "output_type": "stream",
          "name": "stdout",
          "text": [
            "[1 2 3 4 5 6]\n",
            "[4 3 2 1 0]\n",
            "[1 2 3 4 5 6 9]\n"
          ]
        }
      ]
    }
  ]
}
