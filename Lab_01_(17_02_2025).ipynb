{
  "nbformat": 4,
  "nbformat_minor": 0,
  "metadata": {
    "colab": {
      "provenance": [],
      "gpuType": "T4",
      "authorship_tag": "ABX9TyOtUPFTSPkb2FUuTTKbb1xY",
      "include_colab_link": true
    },
    "kernelspec": {
      "name": "python3",
      "display_name": "Python 3"
    },
    "language_info": {
      "name": "python"
    },
    "accelerator": "GPU"
  },
  "cells": [
    {
      "cell_type": "markdown",
      "metadata": {
        "id": "view-in-github",
        "colab_type": "text"
      },
      "source": [
        "<a href=\"https://colab.research.google.com/github/Asfia-Fathima/Statistical-Analytics-computing/blob/main/Lab_1_(17_02_2025).ipynb\" target=\"_parent\"><img src=\"https://colab.research.google.com/assets/colab-badge.svg\" alt=\"Open In Colab\"/></a>"
      ]
    },
    {
      "cell_type": "markdown",
      "source": [
        "This file includes-\"Basic Programs in python\" of day-17-feb-2025"
      ],
      "metadata": {
        "id": "BCyeqZOxamSe"
      }
    },
    {
      "cell_type": "code",
      "execution_count": null,
      "metadata": {
        "colab": {
          "base_uri": "https://localhost:8080/"
        },
        "id": "xT62Q48zUB_N",
        "outputId": "2860da75-7396-4425-d640-3294026679f6"
      },
      "outputs": [
        {
          "output_type": "stream",
          "name": "stdout",
          "text": [
            "<class 'int'>\n",
            "<class 'float'>\n",
            "<class 'str'>\n",
            "<class 'str'>\n"
          ]
        }
      ],
      "source": [
        "#1# USE OF DIFF DATA TYPES\n",
        "a=10\n",
        "b=19.8\n",
        "c='string'\n",
        "d='true'\n",
        "print(type(a));\n",
        "print(type(b));\n",
        "print(type(c));\n",
        "print(type(d));\n"
      ]
    },
    {
      "cell_type": "code",
      "source": [
        "#2# ARITHMETIC OPERATIONS\n",
        "f=20\n",
        "g=10\n",
        "print(\"sum =\",f+g)\n",
        "print(\"difference =\",f-g)\n",
        "print(\"product=\",f*g)\n",
        "print(\"quotient=\",f/g)\n"
      ],
      "metadata": {
        "colab": {
          "base_uri": "https://localhost:8080/"
        },
        "id": "bjaUir8JZaFP",
        "outputId": "cd54b5d0-d73a-456e-a4a8-22b0119c83c0"
      },
      "execution_count": null,
      "outputs": [
        {
          "output_type": "stream",
          "name": "stdout",
          "text": [
            "sum = 30\n",
            "difference = 10\n",
            "product= 200\n",
            "quotient= 2.0\n"
          ]
        }
      ]
    },
    {
      "cell_type": "code",
      "source": [
        "\n",
        "#2# LOGICAL OPERATIONS\n",
        "a=int(input(\"Enter a\"))\n",
        "b=int(input(\"Enter b\"))\n",
        "p= a and b\n",
        "print(\"or operation=\",p)\n",
        "c=a or b\n",
        "print(\"or operation=\",c)\n",
        "d= not b\n",
        "print(\"not operation=\",d)\n"
      ],
      "metadata": {
        "colab": {
          "base_uri": "https://localhost:8080/"
        },
        "id": "7gh_oTCeZddR",
        "outputId": "c9070938-53d0-4458-eba7-dbca78bf8437"
      },
      "execution_count": null,
      "outputs": [
        {
          "output_type": "stream",
          "name": "stdout",
          "text": [
            "Enter a10\n",
            "Enter b20\n",
            "or operation= 20\n",
            "or operation= 10\n",
            "not operation= False\n"
          ]
        }
      ]
    },
    {
      "cell_type": "code",
      "source": [
        "#2# BITWISE OPERATORS\n",
        "a = 5\n",
        "b = 3\n",
        "print(a & b)\n",
        "print(a | b)\n",
        "print(a ^ b)\n"
      ],
      "metadata": {
        "colab": {
          "base_uri": "https://localhost:8080/"
        },
        "id": "mswirMp9ZdvT",
        "outputId": "14c4bf1e-c558-4411-b442-4857090fd90c"
      },
      "execution_count": null,
      "outputs": [
        {
          "output_type": "stream",
          "name": "stdout",
          "text": [
            "1\n",
            "7\n",
            "6\n"
          ]
        }
      ]
    },
    {
      "cell_type": "code",
      "source": [
        "#2# RELATIONAL OPERATORS\n",
        "a=5\n",
        "b=3\n",
        "print(\"equal to :\",a==b)\n",
        "print(\"Not equal to:\",a!=b)\n",
        "print(\"Greater than:\",a>b)\n",
        "print(\"less than:\",a<b)\n"
      ],
      "metadata": {
        "colab": {
          "base_uri": "https://localhost:8080/"
        },
        "id": "9hcxi_TxZd86",
        "outputId": "53f9e740-1cd9-4cd7-f30b-edee98614532"
      },
      "execution_count": null,
      "outputs": [
        {
          "output_type": "stream",
          "name": "stdout",
          "text": [
            "equal to : False\n",
            "Not equal to: True\n",
            "Greater than: True\n",
            "less than: False\n"
          ]
        }
      ]
    },
    {
      "cell_type": "code",
      "source": [
        "#3# IF ELSE LOOP\n",
        "n=int(input(\"Enter a number\"))\n",
        "if (n % 2 ==0):\n",
        "    print(n,\"is even\")\n",
        "else:\n",
        "    print(n,\"is odd\")\n"
      ],
      "metadata": {
        "colab": {
          "base_uri": "https://localhost:8080/"
        },
        "id": "3l0mTGtyZpTE",
        "outputId": "f8a886eb-49c6-4767-874e-e78edd42ab37"
      },
      "execution_count": null,
      "outputs": [
        {
          "output_type": "stream",
          "name": "stdout",
          "text": [
            "Enter a number10\n",
            "10 is even\n"
          ]
        }
      ]
    },
    {
      "cell_type": "code",
      "source": [
        "#3# NESTED IF ELSE\n",
        "\n",
        "m1=int(input(\"subject1 marks=\"))\n",
        "m2=int(input(\"subject2 marks=\"))\n",
        "m3=int(input(\"subject3 marks=\"))\n",
        "avg= ((m1+m2+m3)/3)\n",
        "if (avg>=80):\n",
        "             print(\"A Grade\")\n",
        "elif (avg>=60) and (avg<80):\n",
        "             print(\"B Grade\")\n",
        "elif (avg>=40) and (avg<60):\n",
        "             print(\"C Grade\")\n",
        "else:\n",
        "         print(\"Fail\")\n"
      ],
      "metadata": {
        "colab": {
          "base_uri": "https://localhost:8080/"
        },
        "id": "-Wcz1PclZpWq",
        "outputId": "f61b3421-ce5f-4767-b364-5bf6388be266"
      },
      "execution_count": null,
      "outputs": [
        {
          "output_type": "stream",
          "name": "stdout",
          "text": [
            "subject1 marks=22\n",
            "subject2 marks=25\n",
            "subject3 marks=64\n",
            "Fail\n"
          ]
        }
      ]
    },
    {
      "cell_type": "code",
      "source": [
        "#5# FOR LOOP\n",
        "n=int(input(\"enter a number \"))\n",
        "for i in range(1,n+1,2):\n",
        "    print(\"i=\",i)\n"
      ],
      "metadata": {
        "colab": {
          "base_uri": "https://localhost:8080/"
        },
        "id": "P7R1XV37ZpYw",
        "outputId": "f0e7d4bc-4983-461a-d7c8-7ce5ebc59b82"
      },
      "execution_count": null,
      "outputs": [
        {
          "output_type": "stream",
          "name": "stdout",
          "text": [
            "enter a number 2\n",
            "i= 1\n"
          ]
        }
      ]
    },
    {
      "cell_type": "code",
      "source": [
        "#6#NO PARAMETER NO RETURN\n",
        "\n",
        "\n",
        "def fun():\n",
        "    print(\"Hello\")\n",
        "print (\"main prog\")\n",
        "fun()\n"
      ],
      "metadata": {
        "colab": {
          "base_uri": "https://localhost:8080/"
        },
        "id": "mth5cw81ZpbK",
        "outputId": "4b8250c2-8123-4575-91a9-00144bfe6278"
      },
      "execution_count": null,
      "outputs": [
        {
          "output_type": "stream",
          "name": "stdout",
          "text": [
            "main prog\n",
            "Hello\n"
          ]
        }
      ]
    },
    {
      "cell_type": "code",
      "source": [
        "#6# PARAMETER NO RETURN\n",
        "def fun(x,y):\n",
        "    print(x+y)\n",
        "print (\"main prog\")\n",
        "a=10\n",
        "b=20\n",
        "fun(a,b)\n"
      ],
      "metadata": {
        "colab": {
          "base_uri": "https://localhost:8080/"
        },
        "id": "T-52qnNJZpdg",
        "outputId": "566e6bb9-e9be-47cd-e1ea-50f6b25c3de1"
      },
      "execution_count": null,
      "outputs": [
        {
          "output_type": "stream",
          "name": "stdout",
          "text": [
            "main prog\n",
            "30\n"
          ]
        }
      ]
    },
    {
      "cell_type": "code",
      "source": [
        "#6# NO PARAMETER AND  RETURN\n",
        "def fun():\n",
        "    a=10\n",
        "    b=20\n",
        "    print(a+b)\n",
        "print (\"main prog\")\n",
        "fun()\n"
      ],
      "metadata": {
        "colab": {
          "base_uri": "https://localhost:8080/"
        },
        "id": "4qppCvR2ZpgB",
        "outputId": "2660b255-5899-42e4-a793-78f512cdf432"
      },
      "execution_count": null,
      "outputs": [
        {
          "output_type": "stream",
          "name": "stdout",
          "text": [
            "main prog\n",
            "30\n"
          ]
        }
      ]
    },
    {
      "cell_type": "code",
      "source": [
        "#6#PARAMETER AND RETURN\n",
        "def add(x, y):\n",
        "    return x + y\n",
        "result = add(3, 4)\n",
        "print(result)\n"
      ],
      "metadata": {
        "colab": {
          "base_uri": "https://localhost:8080/"
        },
        "id": "vQA-8ElnZpie",
        "outputId": "e8a0efe8-f6cd-425a-c5fb-3896b2e94e90"
      },
      "execution_count": null,
      "outputs": [
        {
          "output_type": "stream",
          "name": "stdout",
          "text": [
            "7\n"
          ]
        }
      ]
    },
    {
      "cell_type": "code",
      "source": [
        "#7#CLASSES AND OBJECTS\n",
        "class  car:\n",
        "    def __init__ (self,brand,model):\n",
        "        self.brand=brand\n",
        "        self.model=model\n",
        "    def print_details(self):\n",
        "        print(f\"Brand:{self.brand}\")\n",
        "        print(f\"model:{self.model}\")\n",
        "#Create objects\n",
        "car1=car(\"toyota\",\"Corolla\")\n",
        "car2=car(\"honda\",\"Civic\")\n",
        "#call methods\n",
        "car1.print_details()\n",
        "car2.print_details()\n"
      ],
      "metadata": {
        "colab": {
          "base_uri": "https://localhost:8080/"
        },
        "id": "ld6eqKTMZpku",
        "outputId": "a11c9979-a51c-48ed-935f-305f814c89e9"
      },
      "execution_count": null,
      "outputs": [
        {
          "output_type": "stream",
          "name": "stdout",
          "text": [
            "Brand:toyota\n",
            "model:Corolla\n",
            "Brand:honda\n",
            "model:Civic\n"
          ]
        }
      ]
    },
    {
      "cell_type": "code",
      "source": [
        "#8# LISTS AND ITS OPERATIONS\n",
        "l1=[1,2,3]\n",
        "print(l1)\n",
        "l2=[1.5]\n",
        "print(l2)\n",
        "l1\n",
        "l1.extend([40,50])\n",
        "print(l1)\n",
        "l1.append(50)\n",
        "print(l1)\n",
        "l1.pop()\n",
        "l1\n"
      ],
      "metadata": {
        "colab": {
          "base_uri": "https://localhost:8080/"
        },
        "id": "-yIVho8BZpmq",
        "outputId": "9854bae6-0e90-4597-ffd8-63997f9a1220"
      },
      "execution_count": null,
      "outputs": [
        {
          "output_type": "stream",
          "name": "stdout",
          "text": [
            "[1, 2, 3]\n",
            "[1.5]\n",
            "[1, 2, 3, 40, 50]\n",
            "[1, 2, 3, 40, 50, 50]\n"
          ]
        },
        {
          "output_type": "execute_result",
          "data": {
            "text/plain": [
              "[1, 2, 3, 40, 50]"
            ]
          },
          "metadata": {},
          "execution_count": 14
        }
      ]
    },
    {
      "cell_type": "code",
      "source": [
        "#9# DICTIONARY OPERATIONS\n",
        "#Accessing Values\n",
        "d1 = {\"name\": \"John\", \"age\": 30, \"city\": \"New York\"}\n",
        "print(d1[\"name\"])\n",
        "#Modifying Values\n",
        "d1 = {\"name\": \"John\", \"age\": 30, \"city\": \"New York\"}\n",
        "d1[\"age\"] = 31\n",
        "print(d1)\n",
        "#Adding a New Value\n",
        "d1 = {\"name\": \"John\", \"age\": 30, \"city\": \"New York\"}\n",
        "d1[\"country\"] = \"USA\"\n",
        "print(d1)\n",
        "#Keys\n",
        "d1 = {\"name\": \"John\", \"age\": 30, \"city\": \"New York\"}\n",
        "print(d1.keys())\n",
        "#Values\n",
        "d1 = {\"name\": \"John\", \"age\": 30, \"city\": \"New York\"}\n",
        "print(d1.values())\n",
        "#Pop\n",
        "d1 = {\"name\": \"John\", \"age\": 30, \"city\": \"New York\"}\n",
        "d1.pop(\"age\")\n",
        "print(d1)\n"
      ],
      "metadata": {
        "colab": {
          "base_uri": "https://localhost:8080/"
        },
        "id": "O951oo2GaJ6u",
        "outputId": "a7d7ce12-6f06-4cde-f932-6e2ea05e2045"
      },
      "execution_count": null,
      "outputs": [
        {
          "output_type": "stream",
          "name": "stdout",
          "text": [
            "John\n",
            "{'name': 'John', 'age': 31, 'city': 'New York'}\n",
            "{'name': 'John', 'age': 30, 'city': 'New York', 'country': 'USA'}\n",
            "dict_keys(['name', 'age', 'city'])\n",
            "dict_values(['John', 30, 'New York'])\n",
            "{'name': 'John', 'city': 'New York'}\n"
          ]
        }
      ]
    },
    {
      "cell_type": "code",
      "source": [
        "#10# TUPLE METHODS\n",
        "t1=(1,2,3,4)\n",
        "t2=(5,6,7,8)\n",
        "print(\"Indexing= \",t1[2])\n",
        "print(\"slicing= \",t1[1:3])\n",
        "print(\"Concatenation=\",t1+t2)\n",
        "print(\"Repeatition\",t1*2)\n",
        "print(\"Count=\",t2.count(2))\n"
      ],
      "metadata": {
        "colab": {
          "base_uri": "https://localhost:8080/"
        },
        "id": "eivj5pxdaKWO",
        "outputId": "2f5239d2-e00b-4adf-b3e3-29d31b98ea3a"
      },
      "execution_count": null,
      "outputs": [
        {
          "output_type": "stream",
          "name": "stdout",
          "text": [
            "Indexing=  3\n",
            "slicing=  (2, 3)\n",
            "Concatenation= (1, 2, 3, 4, 5, 6, 7, 8)\n",
            "Repeatition (1, 2, 3, 4, 1, 2, 3, 4)\n",
            "Count= 0\n"
          ]
        }
      ]
    },
    {
      "cell_type": "code",
      "source": [
        "#11#SET OPERATIONS\n",
        "#Creating a Set\n",
        "s1 = {1, 2, 3, 4, 5}\n",
        "s2 = {4, 5, 6, 7, 8}\n",
        "#Union Operation\n",
        "s3 = s1.union(s2)\n",
        "print(s3)\n",
        "#Intersection Operation\n",
        "s3 = s1.intersection(s2)\n",
        "print(s3)\n",
        "#Difference Operation\n",
        "s3 = s1.difference(s2)\n",
        "print(s3)\n",
        "#Symmetric Difference Operation\n",
        "s3 = s1.symmetric_difference(s2)\n",
        "print(s3)\n"
      ],
      "metadata": {
        "colab": {
          "base_uri": "https://localhost:8080/"
        },
        "id": "FzVbxVD6aKez",
        "outputId": "01a25dbe-ba0b-4814-d927-a61c6a7f6aae"
      },
      "execution_count": null,
      "outputs": [
        {
          "output_type": "stream",
          "name": "stdout",
          "text": [
            "{1, 2, 3, 4, 5, 6, 7, 8}\n",
            "{4, 5}\n",
            "{1, 2, 3}\n",
            "{1, 2, 3, 6, 7, 8}\n"
          ]
        }
      ]
    },
    {
      "cell_type": "code",
      "source": [],
      "metadata": {
        "id": "BJysAKPxaKmJ"
      },
      "execution_count": null,
      "outputs": []
    }
  ]
}
