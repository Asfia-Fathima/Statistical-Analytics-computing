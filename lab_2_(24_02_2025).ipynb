{
  "nbformat": 4,
  "nbformat_minor": 0,
  "metadata": {
    "colab": {
      "provenance": [],
      "gpuType": "T4",
      "authorship_tag": "ABX9TyMSZSHR2YDt1gFMi/VdF2VS",
      "include_colab_link": true
    },
    "kernelspec": {
      "name": "python3",
      "display_name": "Python 3"
    },
    "language_info": {
      "name": "python"
    },
    "accelerator": "GPU"
  },
  "cells": [
    {
      "cell_type": "markdown",
      "metadata": {
        "id": "view-in-github",
        "colab_type": "text"
      },
      "source": [
        "<a href=\"https://colab.research.google.com/github/Asfia-Fathima/Statistical-Analytics-computing/blob/main/lab_2_(24_02_2025).ipynb\" target=\"_parent\"><img src=\"https://colab.research.google.com/assets/colab-badge.svg\" alt=\"Open In Colab\"/></a>"
      ]
    },
    {
      "cell_type": "markdown",
      "source": [
        "This includes-\n",
        "\n",
        "~Array Creation & Properties.\n",
        "\n",
        "~Array Indexing & Slicing.\n",
        "\n",
        "~Reshaping & Flattening.\n",
        "\n",
        "~Mathematical Operations(elementwise,statistical& aggregation).\n",
        "\n",
        "~Stacking & Concatenation.\n",
        "\n",
        "~Universal Functions (ufuncs)(Arithmetic,trigonometric,logarithmic,exponential,Rounding).\n",
        "\n"
      ],
      "metadata": {
        "id": "_ZOnFjUmtEpw"
      }
    },
    {
      "cell_type": "code",
      "execution_count": null,
      "metadata": {
        "colab": {
          "base_uri": "https://localhost:8080/"
        },
        "id": "hKiavlVIsiQ3",
        "outputId": "8a934c9d-8528-44ca-d5af-0acc72524898"
      },
      "outputs": [
        {
          "output_type": "stream",
          "name": "stdout",
          "text": [
            "boolean array= [ True False  True False  True]\n",
            "1D Array operations\n",
            "original 1D array= [1 2 3 4 5]\n",
            "Shape= (5,)\n",
            "Size= 5\n",
            "datatype= int64\n",
            "Sum= 15\n",
            "mean= 3.0\n",
            "median= 3.0\n",
            "Min= 1\n",
            "Max= 5\n",
            "Standard deviation= 1.4142135623730951\n",
            "Reshaped= [[1]\n",
            " [2]\n",
            " [3]\n",
            " [4]\n",
            " [5]]\n",
            "Reversed= [5 4 3 2 1]\n",
            "Transpose= [1 2 3 4 5]\n",
            "Reversed= [5 4 3 2 1]\n",
            "Square= [ 1  4  9 16 25]\n"
          ]
        }
      ],
      "source": [
        "#12# Write a python script to perform following operations on arrays\n",
        "##WORKING WITH ARRAYS(“2”)\n",
        "##1D ARRAY OPERATIONS\n",
        "import numpy as np\n",
        "arr1D=np.array([1,2,3,4,5])      #(a)create 1d array\n",
        "boolArray = np.array([True, False, True, False,True])\n",
        "print(\"boolean array=\",boolArray);   #(b)create a boolean array\n",
        "print(\"1D Array operations\")\n",
        "print(\"original 1D array=\",arr1D)\n",
        "print(\"Shape=\",arr1D.shape)\n",
        "print(\"Size=\",arr1D.size)\n",
        "print(\"datatype=\",arr1D.dtype)\n",
        "print(\"Sum=\",np.sum(arr1D))\n",
        "print(\"mean=\",np.mean(arr1D))\n",
        "print(\"median=\",np.median(arr1D))\n",
        "print(\"Min=\",np.min(arr1D))\n",
        "print(\"Max=\",np.max(arr1D))\n",
        "print(\"Standard deviation=\",np.std(arr1D))\n",
        "print(\"Reshaped=\",arr1D.reshape(5,1)) #(f.) Reshape an array\n",
        "print(\"Reversed=\",arr1D[::-1])\n",
        "print(\"Transpose=\",arr1D.T)\n",
        "print(\"Reversed=\",arr1D[::-1])\n",
        "print(\"Square=\",np.square(arr1D))"
      ]
    },
    {
      "cell_type": "code",
      "source": [
        "  #(c) Extract items that satisfy a given condition from 1D array\n",
        "array = np.array([1, 2, 3, 4, 5, 6, 7, 8, 9, 10])\n",
        "even_numbers = array[array % 2 == 0]\n",
        "print(\"Extracted values=\",even_numbers)\n"
      ],
      "metadata": {
        "id": "SkNkGUzrwDaM",
        "colab": {
          "base_uri": "https://localhost:8080/"
        },
        "outputId": "1cb7ceff-af98-429a-c03a-af6d714f4ca8"
      },
      "execution_count": null,
      "outputs": [
        {
          "output_type": "stream",
          "name": "stdout",
          "text": [
            "Extracted values= [ 2  4  6  8 10]\n"
          ]
        }
      ]
    },
    {
      "cell_type": "code",
      "source": [
        "#(d)Replace items that satisfy a condition with another value in numpy array\n",
        "replace=np.array([1, 2, 3, 4, 55, 6, 7, 18, 9, 12])# Replace even numbers with 0\n",
        "replace[replace % 2 == 0] = 0\n",
        "print(\"replaced values=\",replace)\n"
      ],
      "metadata": {
        "id": "lvbeRUUnuLBW",
        "colab": {
          "base_uri": "https://localhost:8080/"
        },
        "outputId": "b9d9a6f3-c921-417e-982d-bbf290e0b22e"
      },
      "execution_count": null,
      "outputs": [
        {
          "output_type": "stream",
          "name": "stdout",
          "text": [
            "replaced values= [ 1  0  3  0 55  0  7  0  9  0]\n"
          ]
        }
      ]
    },
    {
      "cell_type": "code",
      "source": [
        "#(e). Replace items that satisfy a condition without affecting the original array\n",
        "array = np.array([1, 2, 3, 4, 5, 6, 7, 8, 9, 10])\n",
        "new_array = np.where(array % 2 == 0, 0, array)\n",
        "print(\"replaced without affecting the values=\",new_array)\n"
      ],
      "metadata": {
        "id": "HANRefI3uLZu",
        "colab": {
          "base_uri": "https://localhost:8080/"
        },
        "outputId": "0c35b77d-8624-4976-f010-2ba498a009cb"
      },
      "execution_count": null,
      "outputs": [
        {
          "output_type": "stream",
          "name": "stdout",
          "text": [
            "replaced without affecting the values= [1 0 3 0 5 0 7 0 9 0]\n"
          ]
        }
      ]
    },
    {
      "cell_type": "code",
      "source": [
        "#(g)Extract all numbers between a given range from a numpy array\n",
        "array = np.array([1, 2, 3, 4, 5, 6, 7, 8, 9, 10])\n",
        "start = 3\n",
        "end = 7\n",
        "result = array[(array >= start) & (array <= end)]\n",
        "print(\"all numbers between a given range are\",result)"
      ],
      "metadata": {
        "id": "VvcwogzguLpG",
        "colab": {
          "base_uri": "https://localhost:8080/"
        },
        "outputId": "01ab3d03-193f-4178-99a4-7496b2545e15"
      },
      "execution_count": null,
      "outputs": [
        {
          "output_type": "stream",
          "name": "stdout",
          "text": [
            "all numbers between a given range are [3 4 5 6 7]\n"
          ]
        }
      ]
    },
    {
      "cell_type": "code",
      "source": [
        "#3 Multiple array\n",
        "## 2D ARRAY OPERATIONS##\n",
        "import numpy as np\n",
        "arr1=np.array([[1,2,3],[2,3,4],[2,3,1]])\n",
        "arr2=np.array([[1,2,3],[1,2,3],[1,2,3]])\n",
        "print(\"2D Array operations\")\n",
        "print(\"array1 elements\",arr1)\n",
        "print(\"array2 elements=\",arr2)\n",
        "print(\"array1 Shape=\",arr1.shape)\n",
        "print(\"array1 Size=\",arr1.size)\n",
        "print(\"array2 Shape=\",arr1.shape)\n",
        "print(\"array2 Size=\",arr1.size)\n",
        "print(\"Array1 datatype=\",arr1.dtype)\n",
        "print(\"Array2 datatype=\",arr2.dtype)\n",
        "print(\"Sum using plus operation=\\n\",arr1+arr2)\n",
        "print(\"Sum using add function=\\n\",np.add(arr1,arr2))\n",
        "print(\"Mean=\",np.mean(arr1))\n",
        "print(\"Min=\",np.min(arr1))\n",
        "print(\"Max=\",np.max(arr1))\n",
        "print(\"ARR1 Standard deviation=\",np.std(arr1))\n",
        "print(\"ARR2 Standard deviation=\",np.std(arr2))\n",
        "print(\"Array1 Reshaped=\",arr1.reshape(9,1))\n",
        "print(\"Array2 Reshaped=\",arr2.reshape(9,1))\n",
        "print(\"Array1 Reversed=\",arr1[::-1])\n",
        "print(\"Array2 Reversed=\",arr2[::-1])\n",
        "print(\"Transpose=\",arr1.T)\n",
        "print(\"Square=\",np.square(arr2))\n",
        "print(\"Flatten=\",arr1.flatten())\n"
      ],
      "metadata": {
        "id": "s5CtbO52uLwG",
        "colab": {
          "base_uri": "https://localhost:8080/"
        },
        "outputId": "6fc3d0a1-0227-426c-a45f-0b9cbc9eacaa"
      },
      "execution_count": null,
      "outputs": [
        {
          "output_type": "stream",
          "name": "stdout",
          "text": [
            "2D Array operations\n",
            "array1 elements [[1 2 3]\n",
            " [2 3 4]\n",
            " [2 3 1]]\n",
            "array2 elements= [[1 2 3]\n",
            " [1 2 3]\n",
            " [1 2 3]]\n",
            "array1 Shape= (3, 3)\n",
            "array1 Size= 9\n",
            "array2 Shape= (3, 3)\n",
            "array2 Size= 9\n",
            "Array1 datatype= int64\n",
            "Array2 datatype= int64\n",
            "Sum using plus operation=\n",
            " [[2 4 6]\n",
            " [3 5 7]\n",
            " [3 5 4]]\n",
            "Sum using add function=\n",
            " [[2 4 6]\n",
            " [3 5 7]\n",
            " [3 5 4]]\n",
            "Mean= 2.3333333333333335\n",
            "Min= 1\n",
            "Max= 4\n",
            "ARR1 Standard deviation= 0.9428090415820634\n",
            "ARR2 Standard deviation= 0.816496580927726\n",
            "Array1 Reshaped= [[1]\n",
            " [2]\n",
            " [3]\n",
            " [2]\n",
            " [3]\n",
            " [4]\n",
            " [2]\n",
            " [3]\n",
            " [1]]\n",
            "Array2 Reshaped= [[1]\n",
            " [2]\n",
            " [3]\n",
            " [1]\n",
            " [2]\n",
            " [3]\n",
            " [1]\n",
            " [2]\n",
            " [3]]\n",
            "Array1 Reversed= [[2 3 1]\n",
            " [2 3 4]\n",
            " [1 2 3]]\n",
            "Array2 Reversed= [[1 2 3]\n",
            " [1 2 3]\n",
            " [1 2 3]]\n",
            "Transpose= [[1 2 2]\n",
            " [2 3 3]\n",
            " [3 4 1]]\n",
            "Square= [[1 4 9]\n",
            " [1 4 9]\n",
            " [1 4 9]]\n",
            "Flatten= [1 2 3 2 3 4 2 3 1]\n"
          ]
        }
      ]
    },
    {
      "cell_type": "code",
      "source": [
        "#PROGRAM3# INDEX SLICING OPERATIONS\n",
        "import numpy as np\n",
        "arr = np.array([1, 2, 3, 4, 5, 6, 7])\n",
        "print(arr[1:5])\n",
        "print(arr[4:1])\n",
        "print(arr[:4])\n",
        "print(arr[-3:-1])\n",
        "print(arr[::2])\n"
      ],
      "metadata": {
        "colab": {
          "base_uri": "https://localhost:8080/"
        },
        "id": "wCQJlVvsxRGI",
        "outputId": "55b49230-7e17-44dd-8433-622c0c0c5fe3"
      },
      "execution_count": null,
      "outputs": [
        {
          "output_type": "stream",
          "name": "stdout",
          "text": [
            "[2 3 4 5]\n",
            "[]\n",
            "[1 2 3 4]\n",
            "[5 6]\n",
            "[1 3 5 7]\n"
          ]
        }
      ]
    },
    {
      "cell_type": "code",
      "source": [
        " #3#STACKING OPERATIONS\n",
        "#a. Stack two arrays vertically b. Stack two arrays horizontally\n",
        "arr1=np.array([[1,2],[3,4]])\n",
        "arr2=np.array([[5,6],[7,8]])\n",
        "print(\"VERTICALLY STACKED=\",np.vstack((arr1,arr2)))\n",
        "print(\"HORIZONTALLY STACKED=\",np.hstack((arr1,arr2)))\n"
      ],
      "metadata": {
        "colab": {
          "base_uri": "https://localhost:8080/"
        },
        "id": "MvrjWVbXxRQ-",
        "outputId": "057fe6ec-3790-40e0-b333-2d04d876cf6a"
      },
      "execution_count": null,
      "outputs": [
        {
          "output_type": "stream",
          "name": "stdout",
          "text": [
            "VERTICALLY STACKED= [[1 2]\n",
            " [3 4]\n",
            " [5 6]\n",
            " [7 8]]\n",
            "HORIZONTALLY STACKED= [[1 2 5 6]\n",
            " [3 4 7 8]]\n"
          ]
        }
      ]
    },
    {
      "cell_type": "code",
      "source": [
        " ##Statistical operations\n",
        "arr1=np.array([[1,2,3],[2,3,4],[2,3,1]])\n",
        "arr2=np.array([[1,2,3],[1,2,3],[1,2,3]])\n",
        "print(\"Mean=\",np.mean(arr1))\n",
        "print(\"Min=\",np.min(arr1))\n",
        "print(\"Max=\",np.max(arr1))\n",
        "print(\"ARR1 Standard deviation=\",np.std(arr1))\n",
        "print(\"ARR2 Standard deviation=\",np.std(arr2))\n"
      ],
      "metadata": {
        "colab": {
          "base_uri": "https://localhost:8080/"
        },
        "id": "SlJ3n6AQxRZv",
        "outputId": "21c4bfe5-d30e-4928-d25a-dbb0d65fd1fd"
      },
      "execution_count": null,
      "outputs": [
        {
          "output_type": "stream",
          "name": "stdout",
          "text": [
            "Mean= 2.3333333333333335\n",
            "Min= 1\n",
            "Max= 4\n",
            "ARR1 Standard deviation= 0.9428090415820634\n",
            "ARR2 Standard deviation= 0.816496580927726\n"
          ]
        }
      ]
    },
    {
      "cell_type": "code",
      "source": [
        " ##Arithmetic functions\n",
        "arr1D=np.array([1,2,3,4,5])\n",
        "arr2D=np.array([6,7,8,9,0])\n",
        "print(\"Addition=\",np.add(arr1,arr2))\n",
        "print(\"Subtraction=\",np.subtract(arr1,arr2))\n",
        "print(\"Multiplication=\",np.multiply(arr1,arr2))\n"
      ],
      "metadata": {
        "colab": {
          "base_uri": "https://localhost:8080/"
        },
        "id": "N_59oqKVxRh3",
        "outputId": "2cc707c9-83db-408d-cf43-994f11300bb9"
      },
      "execution_count": null,
      "outputs": [
        {
          "output_type": "stream",
          "name": "stdout",
          "text": [
            "Addition= [[2 4 6]\n",
            " [3 5 7]\n",
            " [3 5 4]]\n",
            "Subtraction= [[ 0  0  0]\n",
            " [ 1  1  1]\n",
            " [ 1  1 -2]]\n",
            "Multiplication= [[ 1  4  9]\n",
            " [ 2  6 12]\n",
            " [ 2  6  3]]\n"
          ]
        }
      ]
    },
    {
      "cell_type": "code",
      "source": [
        " ##Trigonometric functions\n",
        "\n",
        "import numpy as np\n",
        "# Define angles in degrees\n",
        "angle_degrees = np.array([30, 20, 5])\n",
        " # Convert to radians\n",
        "angle_radians = np.radians(angle_degrees)\n",
        " # Compute trigonometric functions\n",
        "print(\"Sine =\", np.sin(angle_radians))\n",
        "print(\"Cosine =\", np.cos(angle_radians))\n",
        "print(\"Tangent =\", np.tan(angle_radians))\n"
      ],
      "metadata": {
        "id": "-ZOPekInuL2e",
        "colab": {
          "base_uri": "https://localhost:8080/"
        },
        "outputId": "a2a3b3c2-986a-453d-fdb9-6cf56081b990"
      },
      "execution_count": null,
      "outputs": [
        {
          "output_type": "stream",
          "name": "stdout",
          "text": [
            "Sine = [0.5        0.34202014 0.08715574]\n",
            "Cosine = [0.8660254  0.93969262 0.9961947 ]\n",
            "Tangent = [0.57735027 0.36397023 0.08748866]\n"
          ]
        }
      ]
    },
    {
      "cell_type": "code",
      "source": [],
      "metadata": {
        "id": "apqZmg_0yV1v"
      },
      "execution_count": null,
      "outputs": []
    }
  ]
}