{
  "nbformat": 4,
  "nbformat_minor": 0,
  "metadata": {
    "colab": {
      "provenance": [],
      "gpuType": "T4",
      "authorship_tag": "ABX9TyOow7urOrH4HCN8cc9mUir7",
      "include_colab_link": true
    },
    "kernelspec": {
      "name": "python3",
      "display_name": "Python 3"
    },
    "language_info": {
      "name": "python"
    },
    "accelerator": "GPU"
  },
  "cells": [
    {
      "cell_type": "markdown",
      "metadata": {
        "id": "view-in-github",
        "colab_type": "text"
      },
      "source": [
        "<a href=\"https://colab.research.google.com/github/Asfia-Fathima/Statistical-Analytics-computing/blob/main/THE_CASE_STUDYYYY.ipynb\" target=\"_parent\"><img src=\"https://colab.research.google.com/assets/colab-badge.svg\" alt=\"Open In Colab\"/></a>"
      ]
    },
    {
      "cell_type": "markdown",
      "source": [
        "A Case Study\n",
        "Based on the Employee data\n",
        "The modules & operations used in this regard are:\n",
        "1. Data Input Module: Load the dataset from the CSV file.\n",
        "2. Data Storage Module: Store the dataset in a SQLite database.\n",
        "3. Data Processing Module: Calculate the mean, min, max, median, std deviation, average salary for each department.\n",
        "4. Data Cleaning Module: Identify and remove any duplicate records.\n",
        "5. Reporting Module: Display the employee details with salary greater than 60000.\n",
        "6. Visualization Module: Plot a histogram of salaries.\n",
        "7. File Operations Module: Export the dataset to a new CSV file.\n",
        "8. Data Processing Module: Calculate the average years of experience for each department.\n",
        "9. Reporting Module: Identify the top 3 highest paid employees.\n",
        "10. Visualization Module: Plot a bar chart of average salary by department.\n"
      ],
      "metadata": {
        "id": "NqCbgRqdI9fY"
      }
    },
    {
      "cell_type": "code",
      "execution_count": null,
      "metadata": {
        "id": "W8DBRT4dIvlL"
      },
      "outputs": [],
      "source": [
        "##TO DOWNLOAD THE (EMPLOYEES)CSV FILE IN FOLLOW THIS LINK-https://drive.google.com/uc?export=download&id=17CNWK3vurg6dK7D4Wu3HCpfkMAajkEKD\n",
        "#PROGRAM:\n",
        "import sqlite3\n",
        "import numpy as np\n",
        "import pandas as pd\n",
        "import matplotlib.pyplot as plt\n",
        "\n"
      ]
    },
    {
      "cell_type": "code",
      "source": [
        "import pandas as pd\n",
        "import requests\n",
        "from io import StringIO\n",
        "\n",
        "file_id = \"17CNWK3vurg6dK7D4Wu3HCpfkMAajkEKD\"\n",
        "download_url = f\"https://drive.google.com/uc?export=download&id={file_id}\"\n",
        "\n",
        "response = requests.get(download_url)\n",
        "data = StringIO(response.text)\n",
        "\n",
        "df = pd.read_csv(data, on_bad_lines='skip')  # skips malformed lines\n",
        "print(df.head())\n",
        "\n"
      ],
      "metadata": {
        "colab": {
          "base_uri": "https://localhost:8080/"
        },
        "id": "ivzSG_3fLOlr",
        "outputId": "fd89f0b0-07ef-4e84-b19f-97f8da895792"
      },
      "execution_count": null,
      "outputs": [
        {
          "output_type": "stream",
          "name": "stdout",
          "text": [
            "   EMPLOYEE_ID FIRST_NAME  LAST_NAME     EMAIL  PHONE_NUMBER  HIRE_DATE  \\\n",
            "0          198     Donald   OConnell  DOCONNEL  650.507.9833  21-Jun-07   \n",
            "1          199    Douglas      Grant    DGRANT  650.507.9844  13-Jan-08   \n",
            "2          200   Jennifer     Whalen   JWHALEN  515.123.4444  17-Sep-03   \n",
            "3          201    Michael  Hartstein  MHARTSTE  515.123.5555  17-Feb-04   \n",
            "4          202        Pat        Fay      PFAY  603.123.6666  17-Aug-05   \n",
            "\n",
            "     JOB_ID MANAGER_ID  DEPARTMENT_ID  SALARY  \n",
            "0  SH_CLERK        124             50    2600  \n",
            "1  SH_CLERK        124             50    2600  \n",
            "2   AD_ASST        101             10    4400  \n",
            "3    MK_MAN        100             20   13000  \n",
            "4    MK_REP        201             20    6000  \n"
          ]
        }
      ]
    },
    {
      "cell_type": "code",
      "source": [
        "\n",
        "\n",
        "#2. Data Storage Module: Store the dataset in a SQLite database.\n",
        "conn = sqlite3.connect('employee_data.db')\n",
        "df.to_sql('Employees', conn, if_exists='replace', index=False)\n",
        "print(\"DataFrame stored into the SQLite DataBase\")\n",
        "\n"
      ],
      "metadata": {
        "colab": {
          "base_uri": "https://localhost:8080/"
        },
        "id": "BzaTz6-RLE19",
        "outputId": "5e46c3ec-e13d-4a45-f941-e1a1ac97cf4c"
      },
      "execution_count": null,
      "outputs": [
        {
          "output_type": "stream",
          "name": "stdout",
          "text": [
            "DataFrame stored into the SQLite DataBase\n"
          ]
        }
      ]
    },
    {
      "cell_type": "code",
      "source": [
        "#3. Data Processing Module: Calculate the mean, min, max, median, std deviation, average salary for each department.\n",
        "grouped = df.groupby('DEPARTMENT_ID')['SALARY']\n",
        "#pd.options.display.max_columns = 11\n",
        "# Create a summary DataFrame\n",
        "summary_df = pd.DataFrame({\n",
        "\t'Mean': grouped.mean(),\n",
        "\t'Min': grouped.min(),\n",
        "\t'Max': grouped.max(),\n",
        "\t'Median': grouped.median(),\n",
        "\t'Std_Deviation': grouped.std(),\n",
        "\t'Average_Salary': grouped.mean()  # same as Mean\n",
        "}).reset_index()\n",
        "summary_df\n"
      ],
      "metadata": {
        "id": "zDjCmhHNOBDY"
      },
      "execution_count": null,
      "outputs": []
    },
    {
      "cell_type": "code",
      "source": [
        "#Step 1: Google Drive File ID\n",
        "file_id = \"17CNWK3vurg6dK7D4Wu3HCpfkMAajkEKD\"\n",
        "download_url = f\"https://drive.google.com/uc?export=download&id={file_id}\"\n",
        "\n",
        "#Step 2: Request file content\n",
        "response = requests.get(download_url)\n",
        "data = StringIO(response.text)\n",
        "\n",
        "#Step 3: Load CSV, skipping bad lines\n",
        "df = pd.read_csv(data, on_bad_lines='skip')\n",
        "\n",
        "#Step 4: Display first 7 rows\n",
        "print(\"Original DataFrame:\\n\", df.head(7))\n",
        "\n",
        "#Step 5: Remove duplicates\n",
        "clear_df = df.drop_duplicates()\n",
        "\n",
        "#Step 6: Display cleaned data\n",
        "print(\"DataFrame after dropping duplicates:\\n\", clear_df.head(7))\n"
      ],
      "metadata": {
        "colab": {
          "base_uri": "https://localhost:8080/"
        },
        "id": "Vve4ZS4SOA1c",
        "outputId": "b24b2209-5eec-4893-dc28-5e58eb95bece"
      },
      "execution_count": null,
      "outputs": [
        {
          "output_type": "stream",
          "name": "stdout",
          "text": [
            "Original DataFrame:\n",
            "    EMPLOYEE_ID FIRST_NAME  LAST_NAME     EMAIL  PHONE_NUMBER  HIRE_DATE  \\\n",
            "0          198     Donald   OConnell  DOCONNEL  650.507.9833  21-Jun-07   \n",
            "1          199    Douglas      Grant    DGRANT  650.507.9844  13-Jan-08   \n",
            "2          200   Jennifer     Whalen   JWHALEN  515.123.4444  17-Sep-03   \n",
            "3          201    Michael  Hartstein  MHARTSTE  515.123.5555  17-Feb-04   \n",
            "4          202        Pat        Fay      PFAY  603.123.6666  17-Aug-05   \n",
            "5          203      Susan     Mavris   SMAVRIS  515.123.7777  07-Jun-02   \n",
            "6          204    Hermann       Baer     HBAER  515.123.8888  07-Jun-02   \n",
            "\n",
            "     JOB_ID MANAGER_ID  DEPARTMENT_ID  SALARY  \n",
            "0  SH_CLERK        124             50    2600  \n",
            "1  SH_CLERK        124             50    2600  \n",
            "2   AD_ASST        101             10    4400  \n",
            "3    MK_MAN        100             20   13000  \n",
            "4    MK_REP        201             20    6000  \n",
            "5    HR_REP        101             40    6500  \n",
            "6    PR_REP        101             70   10000  \n",
            "DataFrame after dropping duplicates:\n",
            "    EMPLOYEE_ID FIRST_NAME  LAST_NAME     EMAIL  PHONE_NUMBER  HIRE_DATE  \\\n",
            "0          198     Donald   OConnell  DOCONNEL  650.507.9833  21-Jun-07   \n",
            "1          199    Douglas      Grant    DGRANT  650.507.9844  13-Jan-08   \n",
            "2          200   Jennifer     Whalen   JWHALEN  515.123.4444  17-Sep-03   \n",
            "3          201    Michael  Hartstein  MHARTSTE  515.123.5555  17-Feb-04   \n",
            "4          202        Pat        Fay      PFAY  603.123.6666  17-Aug-05   \n",
            "5          203      Susan     Mavris   SMAVRIS  515.123.7777  07-Jun-02   \n",
            "6          204    Hermann       Baer     HBAER  515.123.8888  07-Jun-02   \n",
            "\n",
            "     JOB_ID MANAGER_ID  DEPARTMENT_ID  SALARY  \n",
            "0  SH_CLERK        124             50    2600  \n",
            "1  SH_CLERK        124             50    2600  \n",
            "2   AD_ASST        101             10    4400  \n",
            "3    MK_MAN        100             20   13000  \n",
            "4    MK_REP        201             20    6000  \n",
            "5    HR_REP        101             40    6500  \n",
            "6    PR_REP        101             70   10000  \n"
          ]
        }
      ]
    },
    {
      "cell_type": "code",
      "source": [
        "\n",
        "# 5. Reporting Module: Display the employee details with salary greater than 60000.\n",
        "high_salary = df[df['SALARY']>6000]\n",
        "print(\"Employee details where salary is greater than 6000:\\n\",high_salary.head(7))\n",
        "\n"
      ],
      "metadata": {
        "colab": {
          "base_uri": "https://localhost:8080/"
        },
        "id": "QgK2kkkQOAx-",
        "outputId": "c09c7f4f-99d1-4438-f4af-499de884ab5f"
      },
      "execution_count": null,
      "outputs": [
        {
          "output_type": "stream",
          "name": "stdout",
          "text": [
            "Employee details where salary is greater than 6000:\n",
            "     EMPLOYEE_ID FIRST_NAME  LAST_NAME     EMAIL  PHONE_NUMBER  HIRE_DATE  \\\n",
            "3           201    Michael  Hartstein  MHARTSTE  515.123.5555  17-Feb-04   \n",
            "5           203      Susan     Mavris   SMAVRIS  515.123.7777  07-Jun-02   \n",
            "6           204    Hermann       Baer     HBAER  515.123.8888  07-Jun-02   \n",
            "7           205    Shelley    Higgins  SHIGGINS  515.123.8080  07-Jun-02   \n",
            "8           206    William      Gietz    WGIETZ  515.123.8181  07-Jun-02   \n",
            "9           100     Steven       King     SKING  515.123.4567  17-Jun-03   \n",
            "10          101      Neena    Kochhar  NKOCHHAR  515.123.4568  21-Sep-05   \n",
            "\n",
            "        JOB_ID MANAGER_ID  DEPARTMENT_ID  SALARY  \n",
            "3       MK_MAN        100             20   13000  \n",
            "5       HR_REP        101             40    6500  \n",
            "6       PR_REP        101             70   10000  \n",
            "7       AC_MGR        101            110   12008  \n",
            "8   AC_ACCOUNT        205            110    8300  \n",
            "9      AD_PRES         -              90   24000  \n",
            "10       AD_VP        100             90   17000  \n"
          ]
        }
      ]
    },
    {
      "cell_type": "code",
      "source": [
        "#6. Visualization Module: Plot a histogram of salaries.\n",
        "plt.figure(figsize=(10,6))\n",
        "plt.hist(df['SALARY'], bins=10, color='darkblue',edgecolor='black')\n",
        "plt.xlabel('Salary')\n",
        "plt.ylabel('Number of Employees')\n",
        "plt.grid(axis='y',linestyle='--',alpha=0.7)\n",
        "plt.tight_layout()\n",
        "plt.show()\n"
      ],
      "metadata": {
        "colab": {
          "base_uri": "https://localhost:8080/",
          "height": 606
        },
        "id": "yBt8v-SMOf_1",
        "outputId": "4aaacc4f-cb8b-4d4e-b8a1-7b179b118c27"
      },
      "execution_count": null,
      "outputs": [
        {
          "output_type": "display_data",
          "data": {
            "text/plain": [
              "<Figure size 1000x600 with 1 Axes>"
            ],
            "image/png": "[encoded data removed]"
          },
          "metadata": {}
        }
      ]
    },
    {
      "cell_type": "code",
      "source": [
        "#7  File Operations Module: Export the dataset to a new CSV file.\n",
        "\n",
        "\n",
        "#Create a DataFrame from the employee table\n",
        "df = pd.DataFrame({ 'FIRST_NAME': ['Donald', 'Douglas', 'Jennifer', 'Michael', 'Pat', 'Susan', 'Hermann', 'Shelley', 'William', 'Steven'],\n",
        "'LAST_NAME': ['OConnell', 'Grant', 'Whalen', 'Hartstein', 'Fay', 'Mavris', 'Baer', 'Higgins', 'Gietz', 'King'],\n",
        "'EMAIL': ['DOCONNELL', 'DGRANT', 'JWHALEN', 'MHARTSTE', 'PFAY', 'SMAVRIS', 'HBAER', 'SHIGGINS', 'WGIETZ', 'SKING'],\n",
        " 'PHONE_NUMBER': ['650.507.9833', '650.507.9844', '515.123.4444', '515.123.5555', '603.123.6666', '515.123.7777', '515.123.8888', '515.123.8080', '515.123.8181', '515.123.4567']\n",
        " })\n",
        "print(df)\n",
        "df.to_csv('employee_data.csv',index=False)\n"
      ],
      "metadata": {
        "colab": {
          "base_uri": "https://localhost:8080/"
        },
        "id": "csqhrSGzOf4P",
        "outputId": "1a40f1af-67d6-445a-9fd6-fc24ef838060"
      },
      "execution_count": null,
      "outputs": [
        {
          "output_type": "stream",
          "name": "stdout",
          "text": [
            "  FIRST_NAME  LAST_NAME      EMAIL  PHONE_NUMBER\n",
            "0     Donald   OConnell  DOCONNELL  650.507.9833\n",
            "1    Douglas      Grant     DGRANT  650.507.9844\n",
            "2   Jennifer     Whalen    JWHALEN  515.123.4444\n",
            "3    Michael  Hartstein   MHARTSTE  515.123.5555\n",
            "4        Pat        Fay       PFAY  603.123.6666\n",
            "5      Susan     Mavris    SMAVRIS  515.123.7777\n",
            "6    Hermann       Baer      HBAER  515.123.8888\n",
            "7    Shelley    Higgins   SHIGGINS  515.123.8080\n",
            "8    William      Gietz     WGIETZ  515.123.8181\n",
            "9     Steven       King      SKING  515.123.4567\n"
          ]
        }
      ]
    },
    {
      "cell_type": "code",
      "source": [
        "#8 Data Processing Module: Calculate the average years of experience for each department.\n",
        "import pandas as pd\n",
        "#Given department IDs\n",
        "department_ids = [50, 50, 10, 20, 20, 40, 70, 110, 110, 90, 90, 90, 60, 60, 60, 60, 60, 100, 100, 100, 100, 100, 100, 30, 30, 30, 30, 30, 30, 50, 50, 50, 50, 50, 50, 50, 50, 50, 50, 50, 50, 50, 50, 50, 50, 50, 50, 50, 50, 50]\n",
        "#Let's assume the years of experience are the same as the index for simplicity\n",
        "years_of_experience = list(range(1, len(department_ids) + 1))\n",
        "#Create a DataFrame\n",
        "df = pd.DataFrame({ 'Department ID': department_ids, 'Years of Experience': years_of_experience })\n",
        "#Group the data by Department ID and calculate the average years of experience\n",
        "average_experience = df.groupby('Department ID')['Years of Experience'].mean()\n",
        "print(average_experience)\n"
      ],
      "metadata": {
        "colab": {
          "base_uri": "https://localhost:8080/"
        },
        "id": "064aCPn6Of0y",
        "outputId": "4e0d83d3-1d95-4ffb-ae84-3e7fdbc61c85"
      },
      "execution_count": null,
      "outputs": [
        {
          "output_type": "stream",
          "name": "stdout",
          "text": [
            "Department ID\n",
            "10      3.000000\n",
            "20      4.500000\n",
            "30     26.500000\n",
            "40      6.000000\n",
            "50     36.652174\n",
            "60     15.000000\n",
            "70      7.000000\n",
            "90     11.000000\n",
            "100    20.500000\n",
            "110     8.500000\n",
            "Name: Years of Experience, dtype: float64\n"
          ]
        }
      ]
    },
    {
      "cell_type": "code",
      "source": [
        "#9. Reporting Module: Identify the top 3 highest paid employees.\n",
        "df[\"FULL_NAME\"] = df[\"FIRST_NAME\"] + \" \" + df[\"LAST_NAME\"]\n",
        "df[\"SALARY\"] = pd.to_numeric(df[\"SALARY\"], errors=\"coerce\")\n",
        "df = df.dropna(subset=[\"SALARY\"])\n",
        "top_3 = df.sort_values(by=\"SALARY\", ascending=False).head(3)\n",
        "print(\"\\nTop 3 Highest Paid Employees:\")\n",
        "print(top_3[[\"FULL_NAME\", \"SALARY\"]])\n"
      ],
      "metadata": {
        "colab": {
          "base_uri": "https://localhost:8080/"
        },
        "id": "oBs3d57kOfyU",
        "outputId": "0a6c4337-a67b-4eb9-e8a7-06de7fb3029a"
      },
      "execution_count": null,
      "outputs": [
        {
          "output_type": "stream",
          "name": "stdout",
          "text": [
            "\n",
            "Top 3 Highest Paid Employees:\n",
            "        FULL_NAME  SALARY\n",
            "9     Steven King   24000\n",
            "10  Neena Kochhar   17000\n",
            "11    Lex De Haan   17000\n"
          ]
        }
      ]
    },
    {
      "cell_type": "code",
      "source": [
        "\n",
        "#10. Visualization Module: Plot a bar chart of average salary by department.\n",
        "avg_salary = df.groupby(\"DEPARTMENT_ID\")[\"SALARY\"].mean()\n",
        "plt.figure(figsize=(10, 6))\n",
        "plt.bar(avg_salary.index.astype(str), avg_salary.values, color=\"skyblue\")\n",
        "plt.xlabel(\"Department ID\")\n",
        "plt.ylabel(\"Average Salary\")\n",
        "plt.title(\"Average Salary by Department\")\n",
        "plt.xticks(rotation=45)\n",
        "plt.tight_layout()\n"
      ],
      "metadata": {
        "colab": {
          "base_uri": "https://localhost:8080/",
          "height": 607
        },
        "id": "A9tLutSdPRZj",
        "outputId": "9095985f-465d-4337-cb4f-934b0c9c6094"
      },
      "execution_count": null,
      "outputs": [
        {
          "output_type": "display_data",
          "data": {
            "text/plain": [
              "<Figure size 1000x600 with 1 Axes>"
            ],
            "image/png": "[encoded data removed]"
          },
          "metadata": {}
        }
      ]
    }
  ]
}