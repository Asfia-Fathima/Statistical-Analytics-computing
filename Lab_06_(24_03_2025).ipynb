{
  "nbformat": 4,
  "nbformat_minor": 0,
  "metadata": {
    "colab": {
      "provenance": [],
      "gpuType": "T4",
      "authorship_tag": "ABX9TyOX+UBfufKHg9ucS0RnZt5L",
      "include_colab_link": true
    },
    "kernelspec": {
      "name": "python3",
      "display_name": "Python 3"
    },
    "language_info": {
      "name": "python"
    },
    "accelerator": "GPU"
  },
  "cells": [
    {
      "cell_type": "markdown",
      "metadata": {
        "id": "view-in-github",
        "colab_type": "text"
      },
      "source": [
        "<a href=\"https://colab.research.google.com/github/Asfia-Fathima/Statistical-Analytics-computing/blob/main/Lab_6_(24_03_2025).ipynb\" target=\"_parent\"><img src=\"https://colab.research.google.com/assets/colab-badge.svg\" alt=\"Open In Colab\"/></a>"
      ]
    },
    {
      "cell_type": "markdown",
      "source": [
        "this contains-\n",
        "\n",
        "~Grouping & Aggregation\n",
        "\n",
        "~Statistical analysis\n"
      ],
      "metadata": {
        "id": "_2NisYYF89N0"
      }
    },
    {
      "cell_type": "code",
      "execution_count": 1,
      "metadata": {
        "id": "h1MFtSjh81Y-",
        "colab": {
          "base_uri": "https://localhost:8080/"
        },
        "outputId": "50159a83-3cf2-4b9d-dc59-dc2e4b94cc22"
      },
      "outputs": [
        {
          "output_type": "stream",
          "name": "stdout",
          "text": [
            "\n",
            "Original dataframe\n",
            "       Name  Age  Salary\n",
            "0    Alice   25   50000\n",
            "1      Bob   30   60000\n",
            "2  Charlie   35   70000\n",
            "3      Bob   40   55000\n",
            "4    Alice   28   62000\n",
            "\n",
            " Grouped by name:\n",
            "           Age   Salary\n",
            "Name                  \n",
            "Alice    26.5  56000.0\n",
            "Bob      35.0  57500.0\n",
            "Charlie  35.0  70000.0\n",
            "\n",
            "Grouped by name -Mean & Sum\n",
            "           Age       Salary        \n",
            "         mean sum     mean     sum\n",
            "Name                              \n",
            "Alice    26.5  53  56000.0  112000\n",
            "Bob      35.0  70  57500.0  115000\n",
            "Charlie  35.0  35  70000.0   70000\n"
          ]
        }
      ],
      "source": [
        "#16#Grouping and aggregation Functions\n",
        "import pandas as pd\n",
        "data={'Name':['Alice','Bob','Charlie','Bob','Alice'],\n",
        "     'Age':[25,30,35,40,28],\n",
        "      'Salary':[50000,60000,70000,55000,62000]}\n",
        "df=pd.DataFrame(data)\n",
        "print(\"\\nOriginal dataframe\\n\",df)\n",
        "\n",
        "#group by name and calculate mean\n",
        "groupmean=df.groupby('Name').mean()\n",
        "print(\"\\n Grouped by name:\\n\",groupmean)\n",
        "\n",
        "#group by name and calculate both mean and sum\n",
        "groupAgg=df.groupby('Name').agg(['mean','sum'])\n",
        "print(\"\\nGrouped by name -Mean & Sum\\n\",groupAgg)\n"
      ]
    },
    {
      "cell_type": "code",
      "source": [
        "#17# ##Statistical operations\n",
        "import numpy as np\n",
        "arr1=np.array([[1,2,3],[2,3,4],[2,3,1]])\n",
        "arr2=np.array([[1,2,3],[1,2,3],[1,2,3]])\n",
        "print(\"Mean=\",np.mean(arr1))\n",
        "print(\"Min=\",np.min(arr1))\n",
        "print(\"Max=\",np.max(arr1))\n",
        "print(\"ARR1 Standard deviation=\",np.std(arr1))\n",
        "print(\"ARR2 Standard deviation=\",np.std(arr2))\n",
        "print(\"Correlation coefficient=\",np.corrcoef(arr1,arr2))"
      ],
      "metadata": {
        "id": "QaXavibt88MG",
        "colab": {
          "base_uri": "https://localhost:8080/"
        },
        "outputId": "66730cc8-1f3a-4e8d-f0e3-8fd43e27ff0c"
      },
      "execution_count": 3,
      "outputs": [
        {
          "output_type": "stream",
          "name": "stdout",
          "text": [
            "Mean= 2.3333333333333335\n",
            "Min= 1\n",
            "Max= 4\n",
            "ARR1 Standard deviation= 0.9428090415820634\n",
            "ARR2 Standard deviation= 0.816496580927726\n",
            "Correlation coefficient= [[ 1.   1.  -0.5  1.   1.   1. ]\n",
            " [ 1.   1.  -0.5  1.   1.   1. ]\n",
            " [-0.5 -0.5  1.  -0.5 -0.5 -0.5]\n",
            " [ 1.   1.  -0.5  1.   1.   1. ]\n",
            " [ 1.   1.  -0.5  1.   1.   1. ]\n",
            " [ 1.   1.  -0.5  1.   1.   1. ]]\n"
          ]
        }
      ]
    },
    {
      "cell_type": "code",
      "source": [],
      "metadata": {
        "id": "puH6vHP_88TV"
      },
      "execution_count": null,
      "outputs": []
    },
    {
      "cell_type": "code",
      "source": [],
      "metadata": {
        "id": "RnVejiwi88Zz"
      },
      "execution_count": null,
      "outputs": []
    }
  ]
}
