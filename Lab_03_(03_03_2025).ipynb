{
  "nbformat": 4,
  "nbformat_minor": 0,
  "metadata": {
    "colab": {
      "provenance": [],
      "authorship_tag": "ABX9TyN5bRehowQFJiJQiaPPnkVo",
      "include_colab_link": true
    },
    "kernelspec": {
      "name": "python3",
      "display_name": "Python 3"
    },
    "language_info": {
      "name": "python"
    }
  },
  "cells": [
    {
      "cell_type": "markdown",
      "metadata": {
        "id": "view-in-github",
        "colab_type": "text"
      },
      "source": [
        "<a href=\"https://colab.research.google.com/github/Asfia-Fathima/Statistical-Analytics-computing/blob/main/Lab_3_(03_03_2025).ipynb\" target=\"_parent\"><img src=\"https://colab.research.google.com/assets/colab-badge.svg\" alt=\"Open In Colab\"/></a>"
      ]
    },
    {
      "cell_type": "markdown",
      "source": [
        "This contains -\n",
        "\n",
        "~Linear Algebra Functions.\n",
        "\n",
        "~Broadcasting\n",
        "\n",
        "~File Reading & Writing(text(load,save),binary(load,save))"
      ],
      "metadata": {
        "id": "Hgh09TLN2lXZ"
      }
    },
    {
      "cell_type": "code",
      "execution_count": 1,
      "metadata": {
        "colab": {
          "base_uri": "https://localhost:8080/"
        },
        "id": "Y2Y-1KfF1rYi",
        "outputId": "bea5c611-27d5-400c-eb81-dd70869bdde9"
      },
      "outputs": [
        {
          "output_type": "stream",
          "name": "stdout",
          "text": [
            "Transpose=\n",
            " [[1 5 1]\n",
            " [2 2 9]\n",
            " [3 3 3]]\n",
            "Determinant of matrix\n",
            " 83.99999999999999\n",
            "Inverse of a matrix\n",
            " [[-2.50000000e-01  2.50000000e-01  0.00000000e+00]\n",
            " [-1.42857143e-01  3.22739251e-18  1.42857143e-01]\n",
            " [ 5.11904762e-01 -8.33333333e-02 -9.52380952e-02]]\n",
            "Inverse of a matrix\n",
            " [[-2.50000000e-01  2.50000000e-01  0.00000000e+00]\n",
            " [-1.42857143e-01  3.22739251e-18  1.42857143e-01]\n",
            " [ 5.11904762e-01 -8.33333333e-02 -9.52380952e-02]]\n",
            "Rank of a matrix\n",
            " 3\n",
            "matrix multiplication:\n",
            " [[ 6 12 18]\n",
            " [10 20 30]\n",
            " [13 26 39]]\n",
            "\n",
            "Computes eigenvalues and eigenvectors\n",
            "\n",
            " EigResult(eigenvalues=array([ 9.8228643 +0.j        , -1.91143215+2.21312095j,\n",
            "       -1.91143215-2.21312095j]), eigenvectors=array([[ 0.37819396+0.j        , -0.25822663-0.35415448j,\n",
            "        -0.25822663+0.35415448j],\n",
            "       [ 0.53219953+0.j        , -0.39397114+0.22980499j,\n",
            "        -0.39397114-0.22980499j],\n",
            "       [ 0.75745164+0.j        ,  0.77451276+0.j        ,\n",
            "         0.77451276-0.j        ]]))\n",
            "\n",
            "Singular Value Decomposition\n",
            "\n",
            " SVDResult(U=array([[-0.30649297, -0.18613298, -0.93349696],\n",
            "       [-0.41796643, -0.85477783,  0.3076669 ],\n",
            "       [-0.85519946,  0.48446814,  0.18418606]]), S=array([10.80159226,  4.8767565 ,  1.59463186]), Vh=array([[-0.30102271, -0.84670054, -0.43872945],\n",
            "       [-0.81520453,  0.46719405, -0.34230293],\n",
            "       [ 0.49479986,  0.25461328, -0.83087013]]))\n"
          ]
        }
      ],
      "source": [
        "##linear algebra functions\n",
        "import numpy as np\n",
        "a=np.array([[1,2,3],[5,2,3],[1,9,3]])\n",
        "b=np.array([[1,2,3],[1,2,3],[1,2,3]])\n",
        "print(\"Transpose=\\n\",a.T)\n",
        "print(\"Determinant of matrix\\n\",np.linalg.det(a))\n",
        "print(\"Inverse of a matrix\\n\",np.linalg.inv(a))\n",
        "print(\"Inverse of a matrix\\n\",np.linalg.inv(a))\n",
        "print(\"Rank of a matrix\\n\",np.linalg.matrix_rank(a))\n",
        "print(\"matrix multiplication:\\n\",np.dot(a,b))\n",
        "print(\"\\nComputes eigenvalues and eigenvectors\\n\\n\",np.linalg.eig(a))\n",
        "print(\"\\nSingular Value Decomposition\\n\\n\",np.linalg.svd(a))\n"
      ]
    },
    {
      "cell_type": "code",
      "source": [
        "## Broadcasting\n",
        "import numpy as np\n",
        "arr1=np.array([[1,2,3],[2,3,4],[2,3,1]])\n",
        "arr2=np.array([[1,2,3],[1,2,3],[1,2,3]])\n",
        "print(\"broadcasting arr and scalar\\n\",arr1+5)\n",
        "print(\"Adding 1d arr t0 2d array\\n\",arr1+arr2)\n"
      ],
      "metadata": {
        "colab": {
          "base_uri": "https://localhost:8080/"
        },
        "id": "zA6jejEp3G0q",
        "outputId": "362ba243-d950-49e6-ff91-98330b5fe423"
      },
      "execution_count": 2,
      "outputs": [
        {
          "output_type": "stream",
          "name": "stdout",
          "text": [
            "broadcasting arr and scalar\n",
            " [[6 7 8]\n",
            " [7 8 9]\n",
            " [7 8 6]]\n",
            "Adding 1d arr t0 2d array\n",
            " [[2 4 6]\n",
            " [3 5 7]\n",
            " [3 5 4]]\n"
          ]
        }
      ]
    },
    {
      "cell_type": "code",
      "source": [
        "#File Reading & Writing(text(load,save),binary(load,save))\n",
        "##FILE HANDLING##\n",
        "import numpy as np\n",
        "# Saving an array to a text file\n",
        "arr = np.array([[1, 2, 3], [4, 5, 6]])\n",
        "np.savetxt(\"D:\\\\output.txt\", arr, delimiter=\",\")\n",
        "print(\"Array saved to array.txt\")\n",
        "# Loading data from a text file\n",
        "filename = \"D:\\\\output.txt\"\n",
        "data = np.loadtxt(filename, delimiter=\",\")\n",
        "print(data)\n"
      ],
      "metadata": {
        "colab": {
          "base_uri": "https://localhost:8080/"
        },
        "id": "r43cZY093H_q",
        "outputId": "1eda345b-55b3-4408-c155-699fb58ceb6c"
      },
      "execution_count": 4,
      "outputs": [
        {
          "output_type": "stream",
          "name": "stdout",
          "text": [
            "Array saved to array.txt\n",
            "[[1. 2. 3.]\n",
            " [4. 5. 6.]]\n"
          ]
        }
      ]
    },
    {
      "cell_type": "code",
      "source": [],
      "metadata": {
        "id": "HGwaWVzk3IFz"
      },
      "execution_count": null,
      "outputs": []
    }
  ]
}
