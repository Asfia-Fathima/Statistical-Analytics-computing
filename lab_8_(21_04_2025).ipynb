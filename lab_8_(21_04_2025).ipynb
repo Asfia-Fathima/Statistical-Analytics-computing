{
  "nbformat": 4,
  "nbformat_minor": 0,
  "metadata": {
    "colab": {
      "provenance": [],
      "gpuType": "T4",
      "authorship_tag": "ABX9TyMDoFf9AE8kpADeHU7WvWF2",
      "include_colab_link": true
    },
    "kernelspec": {
      "name": "python3",
      "display_name": "Python 3"
    },
    "language_info": {
      "name": "python"
    },
    "accelerator": "GPU"
  },
  "cells": [
    {
      "cell_type": "markdown",
      "metadata": {
        "id": "view-in-github",
        "colab_type": "text"
      },
      "source": [
        "<a href=\"https://colab.research.google.com/github/Asfia-Fathima/Statistical-Analytics-computing/blob/main/lab_8_(21_04_2025).ipynb\" target=\"_parent\"><img src=\"https://colab.research.google.com/assets/colab-badge.svg\" alt=\"Open In Colab\"/></a>"
      ]
    },
    {
      "cell_type": "markdown",
      "source": [
        "Implement the following web API’s using post, get, put and update methods\n",
        "\n"
      ],
      "metadata": {
        "id": "hWUBe05XB7Jj"
      }
    },
    {
      "cell_type": "code",
      "execution_count": 3,
      "metadata": {
        "colab": {
          "base_uri": "https://localhost:8080/"
        },
        "id": "MZQu_fPHBubv",
        "outputId": "b823717e-c042-4b6f-9e7c-bf699463164d"
      },
      "outputs": [
        {
          "output_type": "stream",
          "name": "stdout",
          "text": [
            "JSON Response: {'title': 'My Post', 'body': 'This is a sample post', 'userId': 1, 'id': 101}\n",
            "JSON Response: {'userId': 1, 'id': 1, 'title': 'sunt aut facere repellat provident occaecati excepturi optio reprehenderit', 'body': 'quia et suscipit\\nsuscipit recusandae consequuntur expedita et cum\\nreprehenderit molestiae ut ut quas totam\\nnostrum rerum est autem sunt rem eveniet architecto'}\n"
          ]
        }
      ],
      "source": [
        "#19#BASICS OF WEB API\n",
        "## POST - SEND DATA\n",
        "import requests\n",
        "# Public API URL\n",
        "url = \"https://jsonplaceholder.typicode.com/posts\"\n",
        "# Data to be sent in the POST request\n",
        "data = {\n",
        "    \"title\": \"My Post\",\n",
        "    \"body\": \"This is a sample post\",\n",
        "    \"userId\": 1\n",
        "}\n",
        "response = requests.post(url, json=data)\n",
        "if response.status_code == 201:  # Created status code\n",
        "    print(\"JSON Response:\", response.json())\n",
        "else:\n",
        "    print(f\"Failed to create resource. Status code: {response.status_code}\")\n",
        "    print(\"Response text:\", response.text)\n",
        "#COMMON HTTP METHODS\n",
        "# GET -RETRIEVE DATA\n",
        "import requests\n",
        "# Public API URL\n",
        "url = \"https://jsonplaceholder.typicode.com/posts/1\"\n",
        "response = requests.get(url)\n",
        "if response.status_code == 200:\n",
        "    try:\n",
        "        data = response.json()\n",
        "        print(\"JSON Response:\", data)\n",
        "    except ValueError:\n",
        "        print(\"Response is not JSON. Raw text:\", response.text)\n",
        "else:\n",
        "    print(f\"Failed to retrieve data. Status code: {response.status_code}\")\n",
        "    print(\"Response text:\", response.text)\n"
      ]
    },
    {
      "cell_type": "code",
      "source": [
        "# POST - SEND DATA\n",
        "import requests\n",
        "# Public API URL\n",
        "url = \"https://jsonplaceholder.typicode.com/posts\"\n",
        "# Data to be sent in the POST request\n",
        "data = {\n",
        "    \"title\": \"My Post\",\n",
        "    \"body\": \"This is a sample post\",\n",
        "    \"userId\": 1\n",
        "}\n",
        "response = requests.post(url, json=data)\n",
        "if response.status_code == 201:  # Created status code\n",
        "    print(\"JSON Response:\", response.json())\n",
        "else:\n",
        "    print(f\"Failed to create resource. Status code: {response.status_code}\")\n",
        "    print(\"Response text:\", response.text)\n"
      ],
      "metadata": {
        "colab": {
          "base_uri": "https://localhost:8080/"
        },
        "id": "ytpeHOMJCoI7",
        "outputId": "1daf58bd-f13b-4c8d-9138-36f647f50f7f"
      },
      "execution_count": 1,
      "outputs": [
        {
          "output_type": "stream",
          "name": "stdout",
          "text": [
            "JSON Response: {'title': 'My Post', 'body': 'This is a sample post', 'userId': 1, 'id': 101}\n"
          ]
        }
      ]
    },
    {
      "cell_type": "code",
      "source": [
        "#making a put request (updating data)\n",
        "import requests\n",
        "url=\"https://jsonplaceholder.typicode.com/posts/1\"\n",
        "update_data={\"title\":\"Update Title\"}\n",
        "# put\n",
        "response=requests.put(url, json=update_data)\n",
        "print(response.status_code)\n",
        "print(response.json())\n"
      ],
      "metadata": {
        "colab": {
          "base_uri": "https://localhost:8080/"
        },
        "id": "eLAfGRaJCoRf",
        "outputId": "34f222fd-900a-449e-b5b3-0894cc3d5c59"
      },
      "execution_count": 5,
      "outputs": [
        {
          "output_type": "stream",
          "name": "stdout",
          "text": [
            "200\n",
            "{'title': 'Update Title', 'id': 1}\n"
          ]
        }
      ]
    },
    {
      "cell_type": "code",
      "source": [
        "##making a delete request (updating data)\n",
        "\n",
        "url=\"https://jsonplaceholder.typicode.com/posts/1\"\n",
        "response=requests.delete(url)\n",
        "print(response.status_code)"
      ],
      "metadata": {
        "colab": {
          "base_uri": "https://localhost:8080/"
        },
        "id": "oPsS8K_AC46P",
        "outputId": "58f31d6b-a3c3-48cd-d8e1-e6ee1f15d468"
      },
      "execution_count": 9,
      "outputs": [
        {
          "output_type": "stream",
          "name": "stdout",
          "text": [
            "200\n"
          ]
        }
      ]
    }
  ]
}