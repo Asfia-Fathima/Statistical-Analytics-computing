{
  "nbformat": 4,
  "nbformat_minor": 0,
  "metadata": {
    "colab": {
      "provenance": [],
      "gpuType": "T4",
      "authorship_tag": "ABX9TyMFhRUJVJ0MDuuedCHLUD39",
      "include_colab_link": true
    },
    "kernelspec": {
      "name": "python3",
      "display_name": "Python 3"
    },
    "language_info": {
      "name": "python"
    },
    "accelerator": "GPU"
  },
  "cells": [
    {
      "cell_type": "markdown",
      "metadata": {
        "id": "view-in-github",
        "colab_type": "text"
      },
      "source": [
        "<a href=\"https://colab.research.google.com/github/Asfia-Fathima/Statistical-Analytics-computing/blob/main/Lab_8_(07_04_2025).ipynb\" target=\"_parent\"><img src=\"https://colab.research.google.com/assets/colab-badge.svg\" alt=\"Open In Colab\"/></a>"
      ]
    },
    {
      "cell_type": "markdown",
      "source": [
        "This contains-\n",
        "\n",
        "~Comparison Functions(greater ,lesser, equal)\n",
        "\n",
        "~Data Cleaning(FIND POSITION OF MISSING VAL,DROP,REPLACE)"
      ],
      "metadata": {
        "id": "Lbh750t0-08e"
      }
    },
    {
      "cell_type": "code",
      "execution_count": 2,
      "metadata": {
        "colab": {
          "base_uri": "https://localhost:8080/"
        },
        "id": "nhiUhDPU-pe8",
        "outputId": "43b201a6-e4b5-4acf-b2fd-4f9f6e46a9e7"
      },
      "outputs": [
        {
          "output_type": "stream",
          "name": "stdout",
          "text": [
            "equal to : False\n",
            "Not equal to: True\n",
            "Greater than: True\n",
            "less than: False\n"
          ]
        }
      ],
      "source": [
        "a=5\n",
        "b=3\n",
        "print(\"equal to :\",a==b)\n",
        "print(\"Not equal to:\",a!=b)\n",
        "print(\"Greater than:\",a>b)\n",
        "print(\"less than:\",a<b)\n"
      ]
    },
    {
      "cell_type": "code",
      "source": [
        "#18#Data cleaning\n",
        "#a)find the position of missing values\n",
        "##Checking for missing values\n",
        "import numpy as np\n",
        "import pandas as pd\n",
        "data={'Name':['Alice','Bob','Charlie','Bob','Alice'],\n",
        "     'Age':[25,np.nan,35,40,28],\n",
        "      'Salary':[50000,60000,np.nan,55000,62000],\n",
        "     'Allowances':[2000,np.nan,2000,2000,2000]}\n",
        "df=pd.DataFrame(data)\n",
        "print(df)\n",
        "\n",
        "print(\"\\n No.of null values present\\n\",df.isnull().sum())\n",
        "print(\"\\n No.of NON-NULL values present\\n\",df.notnull().sum())\n",
        "#dropping missing values\n",
        "print(\"\\nRemove missing values\\n\",df.dropna())\n"
      ],
      "metadata": {
        "colab": {
          "base_uri": "https://localhost:8080/"
        },
        "id": "Z5Rm01Ly_jvX",
        "outputId": "fbbb492a-8454-4151-f909-1b65ab83ff94"
      },
      "execution_count": 4,
      "outputs": [
        {
          "output_type": "stream",
          "name": "stdout",
          "text": [
            "      Name   Age   Salary  Allowances\n",
            "0    Alice  25.0  50000.0      2000.0\n",
            "1      Bob   NaN  60000.0         NaN\n",
            "2  Charlie  35.0      NaN      2000.0\n",
            "3      Bob  40.0  55000.0      2000.0\n",
            "4    Alice  28.0  62000.0      2000.0\n",
            "\n",
            " No.of null values present\n",
            " Name          0\n",
            "Age           1\n",
            "Salary        1\n",
            "Allowances    1\n",
            "dtype: int64\n",
            "\n",
            " No.of NON-NULL values present\n",
            " Name          5\n",
            "Age           4\n",
            "Salary        4\n",
            "Allowances    4\n",
            "dtype: int64\n",
            "\n",
            "Remove missing values\n",
            "     Name   Age   Salary  Allowances\n",
            "0  Alice  25.0  50000.0      2000.0\n",
            "3    Bob  40.0  55000.0      2000.0\n",
            "4  Alice  28.0  62000.0      2000.0\n"
          ]
        }
      ]
    },
    {
      "cell_type": "code",
      "source": [],
      "metadata": {
        "id": "kuF3byfe_j1y"
      },
      "execution_count": null,
      "outputs": []
    },
    {
      "cell_type": "code",
      "source": [],
      "metadata": {
        "id": "sP8ah_Wp_j8N"
      },
      "execution_count": null,
      "outputs": []
    }
  ]
}