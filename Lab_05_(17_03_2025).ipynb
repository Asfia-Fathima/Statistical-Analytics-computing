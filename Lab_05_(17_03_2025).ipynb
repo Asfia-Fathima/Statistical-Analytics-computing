{
  "nbformat": 4,
  "nbformat_minor": 0,
  "metadata": {
    "colab": {
      "provenance": [],
      "gpuType": "T4",
      "authorship_tag": "ABX9TyNvvdkFK5XnEAXTjCYkz9A2",
      "include_colab_link": true
    },
    "kernelspec": {
      "name": "python3",
      "display_name": "Python 3"
    },
    "language_info": {
      "name": "python"
    },
    "accelerator": "GPU"
  },
  "cells": [
    {
      "cell_type": "markdown",
      "metadata": {
        "id": "view-in-github",
        "colab_type": "text"
      },
      "source": [
        "<a href=\"https://colab.research.google.com/github/Asfia-Fathima/Statistical-Analytics-computing/blob/main/lab_5_(17_03_2025).ipynb\" target=\"_parent\"><img src=\"https://colab.research.google.com/assets/colab-badge.svg\" alt=\"Open In Colab\"/></a>"
      ]
    },
    {
      "cell_type": "markdown",
      "source": [
        "this contains-\n",
        "\n",
        "Work with following functions in Series and Data frames using Pandas"
      ],
      "metadata": {
        "id": "rIB8964G6c6n"
      }
    },
    {
      "cell_type": "code",
      "source": [
        "##2##Working with series of different data types\n",
        "#–integer datatype\n",
        "import pandas as pd\n",
        "data=[10,20,30,40]\n",
        "series=pd.Series(data)\n",
        "print(series)\n"
      ],
      "metadata": {
        "colab": {
          "base_uri": "https://localhost:8080/"
        },
        "id": "S0amlSYm6eOP",
        "outputId": "b6f1a7e2-6b53-4436-c467-f02195f11fc9"
      },
      "execution_count": 2,
      "outputs": [
        {
          "output_type": "stream",
          "name": "stdout",
          "text": [
            "0    10\n",
            "1    20\n",
            "2    30\n",
            "3    40\n",
            "dtype: int64\n"
          ]
        }
      ]
    },
    {
      "cell_type": "code",
      "source": [
        "#–object datatype\n",
        "import pandas as pd\n",
        "data=['AAA','BBB','CCC']\n",
        "series=pd.Series(data)\n",
        "print(series)\n"
      ],
      "metadata": {
        "colab": {
          "base_uri": "https://localhost:8080/"
        },
        "id": "4c_cIuQz6eUv",
        "outputId": "6a63fc07-4d88-4f60-9ca4-8933fd597baa"
      },
      "execution_count": 3,
      "outputs": [
        {
          "output_type": "stream",
          "name": "stdout",
          "text": [
            "0    AAA\n",
            "1    BBB\n",
            "2    CCC\n",
            "dtype: object\n"
          ]
        }
      ]
    },
    {
      "cell_type": "code",
      "execution_count": 4,
      "metadata": {
        "colab": {
          "base_uri": "https://localhost:8080/"
        },
        "id": "7DPykE9-6Vu3",
        "outputId": "21690b86-3e2d-4f7d-d1bc-731bf1460d28"
      },
      "outputs": [
        {
          "output_type": "stream",
          "name": "stdout",
          "text": [
            "      Name  Age         City\n",
            "0    Alice   25     New york\n",
            "1      Bob   30  Los Angeles\n",
            "2  Charlie   35      chicago\n"
          ]
        }
      ],
      "source": [
        "##3#Creating a data frame\n",
        "import pandas as pd\n",
        "data={'Name':['Alice','Bob','Charlie'],\n",
        "     'Age':[25,30,35],\n",
        "     'City':['New york','Los Angeles','chicago']}\n",
        "df=pd.DataFrame(data)\n",
        "print(df)\n"
      ]
    },
    {
      "cell_type": "code",
      "source": [
        "##4## using “head,tail,describe,info,columns,shape,index” functions\n",
        "import pandas as pd\n",
        "data={'Name':['Alice','Bob','Charlie','David','Eva'],\n",
        "     'Age':[25,30,35,40,28],\n",
        "     'City':['New york','Los Angeles','Chicago','Texas','Dallas']}\n",
        "df=pd.DataFrame(data)\n",
        "print(\"Original dataframe\",df)\n",
        "print(\"\\nFirst three rows=\\n\",df.head(3))\n",
        "print(\"\\nLast two rows=\\n\",df.tail(2))\n",
        "print(\"\\nLast two rows=\\n\",df.tail(2))\n",
        "print(\"\\nAll Column names\",df.columns)\n",
        "print(\"\\nShape of the dataFrame\",df.shape)\n",
        "print(\"\\nIndex=\",df.index)\n",
        "print(\"\\nstatistical summary=\\n\",df.describe())\n",
        "print(\"\\n Data frame Information\\n\",df.info)\n"
      ],
      "metadata": {
        "colab": {
          "base_uri": "https://localhost:8080/"
        },
        "id": "fN9CnzzF7GbC",
        "outputId": "736f124a-e9b3-4dec-c355-c14e7d8dc85d"
      },
      "execution_count": 5,
      "outputs": [
        {
          "output_type": "stream",
          "name": "stdout",
          "text": [
            "Original dataframe       Name  Age         City\n",
            "0    Alice   25     New york\n",
            "1      Bob   30  Los Angeles\n",
            "2  Charlie   35      Chicago\n",
            "3    David   40        Texas\n",
            "4      Eva   28       Dallas\n",
            "\n",
            "First three rows=\n",
            "       Name  Age         City\n",
            "0    Alice   25     New york\n",
            "1      Bob   30  Los Angeles\n",
            "2  Charlie   35      Chicago\n",
            "\n",
            "Last two rows=\n",
            "     Name  Age    City\n",
            "3  David   40   Texas\n",
            "4    Eva   28  Dallas\n",
            "\n",
            "Last two rows=\n",
            "     Name  Age    City\n",
            "3  David   40   Texas\n",
            "4    Eva   28  Dallas\n",
            "\n",
            "All Column names Index(['Name', 'Age', 'City'], dtype='object')\n",
            "\n",
            "Shape of the dataFrame (5, 3)\n",
            "\n",
            "Index= RangeIndex(start=0, stop=5, step=1)\n",
            "\n",
            "statistical summary=\n",
            "             Age\n",
            "count   5.00000\n",
            "mean   31.60000\n",
            "std     5.94138\n",
            "min    25.00000\n",
            "25%    28.00000\n",
            "50%    30.00000\n",
            "75%    35.00000\n",
            "max    40.00000\n",
            "\n",
            " Data frame Information\n",
            " <bound method DataFrame.info of       Name  Age         City\n",
            "0    Alice   25     New york\n",
            "1      Bob   30  Los Angeles\n",
            "2  Charlie   35      Chicago\n",
            "3    David   40        Texas\n",
            "4      Eva   28       Dallas>\n"
          ]
        }
      ]
    },
    {
      "cell_type": "code",
      "source": [
        "##5##working with functions to select specific columns,rows ,accessing them by specific row labels as well as index(selection operations)###\n",
        "import pandas as pd\n",
        "data={'Name':['Alice','Bob','Charlie','David','Eva'],\n",
        "     'Age':[25,30,35,40,28],\n",
        "      'Salary':[50000,60000,70000,55000,62000],\n",
        "     'City':['New york','Los Angeles','Chicago','Texas','Dallas']}\n",
        "df=pd.DataFrame(data)\n",
        "print(\"\\nOriginal dataframe\\n\",df)\n",
        "print(\"\\nSingle Column\\n\",df['Name'])\n",
        "print(\"\\nMultiple Columns\\n\",df[['Name','Age']])\n",
        "print(\"\\nFirst Row\\n\",df.iloc[0])\n",
        "print(\"\\nSelect value from first row\\n\",df.loc[0,'Name'])\n"
      ],
      "metadata": {
        "colab": {
          "base_uri": "https://localhost:8080/"
        },
        "id": "8UnOuPds7GhL",
        "outputId": "7400200d-7eb1-4830-e1ee-681e6698fa4f"
      },
      "execution_count": 6,
      "outputs": [
        {
          "output_type": "stream",
          "name": "stdout",
          "text": [
            "\n",
            "Original dataframe\n",
            "       Name  Age  Salary         City\n",
            "0    Alice   25   50000     New york\n",
            "1      Bob   30   60000  Los Angeles\n",
            "2  Charlie   35   70000      Chicago\n",
            "3    David   40   55000        Texas\n",
            "4      Eva   28   62000       Dallas\n",
            "\n",
            "Single Column\n",
            " 0      Alice\n",
            "1        Bob\n",
            "2    Charlie\n",
            "3      David\n",
            "4        Eva\n",
            "Name: Name, dtype: object\n",
            "\n",
            "Multiple Columns\n",
            "       Name  Age\n",
            "0    Alice   25\n",
            "1      Bob   30\n",
            "2  Charlie   35\n",
            "3    David   40\n",
            "4      Eva   28\n",
            "\n",
            "First Row\n",
            " Name         Alice\n",
            "Age             25\n",
            "Salary       50000\n",
            "City      New york\n",
            "Name: 0, dtype: object\n",
            "\n",
            "Select value from first row\n",
            " Alice\n"
          ]
        }
      ]
    },
    {
      "cell_type": "code",
      "source": [
        "##6## Filtering and Conditional Selection\n",
        "print(\"\\n filtered Age-\\n\",df[df['Age']>28])\n",
        "print(\"\\n Filtered City-\\n\",df[df['City'].isin(['Chicago','New york'])])"
      ],
      "metadata": {
        "colab": {
          "base_uri": "https://localhost:8080/"
        },
        "id": "wmWieKHg7Wd3",
        "outputId": "1ca4cb6b-2574-48f1-da34-e26e5ffac1f2"
      },
      "execution_count": 8,
      "outputs": [
        {
          "output_type": "stream",
          "name": "stdout",
          "text": [
            "\n",
            " filtered Age-\n",
            "       Name  Age  Salary         City\n",
            "1      Bob   30   60000  Los Angeles\n",
            "2  Charlie   35   70000      Chicago\n",
            "3    David   40   55000        Texas\n",
            "\n",
            " Filtered City-\n",
            "       Name  Age  Salary      City\n",
            "0    Alice   25   50000  New york\n",
            "2  Charlie   35   70000   Chicago\n"
          ]
        }
      ]
    },
    {
      "cell_type": "code",
      "source": [
        "##Sorting And Reordering\n",
        "import pandas as pd\n",
        "data={'Name':['Alice','Bob','Charlie','David','Eva'],\n",
        "     'Age':[25,30,35,40,28],\n",
        "      'Salary':[50000,60000,70000,55000,62000]}\n",
        "df=pd.DataFrame(data)\n",
        "print(\"\\nOriginal dataframe\\n\",df)\n",
        "sorted_salary= df.sort_values('Salary',ascending=False)\n",
        "print(\"\\nSorted salary\\n\",sorted_salary)\n",
        "sorted_multiple=df.sort_values(['Name','Age','Salary'])\n",
        "print(\"\\nMultiple Sorting \\n\",sorted_multiple)\n",
        "indexed=df.set_index('Name')\n",
        "print(\"\\nSets name as index\\n\",indexed)\n",
        "reset=df.reset_index()\n",
        "print(\"\\nReseted Index\\n\",reset)\n"
      ],
      "metadata": {
        "colab": {
          "base_uri": "https://localhost:8080/"
        },
        "id": "TNu3j6e77Wkt",
        "outputId": "9ef703b9-1aab-4d81-ae05-ec0a6c656ff3"
      },
      "execution_count": 9,
      "outputs": [
        {
          "output_type": "stream",
          "name": "stdout",
          "text": [
            "\n",
            "Original dataframe\n",
            "       Name  Age  Salary\n",
            "0    Alice   25   50000\n",
            "1      Bob   30   60000\n",
            "2  Charlie   35   70000\n",
            "3    David   40   55000\n",
            "4      Eva   28   62000\n",
            "\n",
            "Sorted salary\n",
            "       Name  Age  Salary\n",
            "2  Charlie   35   70000\n",
            "4      Eva   28   62000\n",
            "1      Bob   30   60000\n",
            "3    David   40   55000\n",
            "0    Alice   25   50000\n",
            "\n",
            "Multiple Sorting \n",
            "       Name  Age  Salary\n",
            "0    Alice   25   50000\n",
            "1      Bob   30   60000\n",
            "2  Charlie   35   70000\n",
            "3    David   40   55000\n",
            "4      Eva   28   62000\n",
            "\n",
            "Sets name as index\n",
            "          Age  Salary\n",
            "Name                \n",
            "Alice     25   50000\n",
            "Bob       30   60000\n",
            "Charlie   35   70000\n",
            "David     40   55000\n",
            "Eva       28   62000\n",
            "\n",
            "Reseted Index\n",
            "    index     Name  Age  Salary\n",
            "0      0    Alice   25   50000\n",
            "1      1      Bob   30   60000\n",
            "2      2  Charlie   35   70000\n",
            "3      3    David   40   55000\n",
            "4      4      Eva   28   62000\n"
          ]
        }
      ]
    },
    {
      "cell_type": "code",
      "source": [],
      "metadata": {
        "id": "_b72ZwJz7GnG"
      },
      "execution_count": null,
      "outputs": []
    }
  ]
}
