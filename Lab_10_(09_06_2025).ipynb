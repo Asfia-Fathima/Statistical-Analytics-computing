{
  "nbformat": 4,
  "nbformat_minor": 0,
  "metadata": {
    "colab": {
      "provenance": [],
      "gpuType": "T4",
      "authorship_tag": "ABX9TyMTVGbE860E4yfnArf2tsn/",
      "include_colab_link": true
    },
    "kernelspec": {
      "name": "python3",
      "display_name": "Python 3"
    },
    "language_info": {
      "name": "python"
    },
    "accelerator": "GPU"
  },
  "cells": [
    {
      "cell_type": "markdown",
      "metadata": {
        "id": "view-in-github",
        "colab_type": "text"
      },
      "source": [
        "<a href=\"https://colab.research.google.com/github/Asfia-Fathima/Statistical-Analytics-computing/blob/main/lab_10_(09_06_2025).ipynb\" target=\"_parent\"><img src=\"https://colab.research.google.com/assets/colab-badge.svg\" alt=\"Open In Colab\"/></a>"
      ]
    },
    {
      "cell_type": "markdown",
      "source": [
        "This includes--\n",
        "\n",
        " 23--Data Wrangling in python.\n",
        "\n",
        "\n",
        " 24--Data Aggregation and Group Operations in\n",
        " Pandas\n",
        "\n",
        " 25-- Perform statistical analysis and visualize:\n",
        "  ~Mean, median, standard deviation\n",
        "  ~Histogram and box plot of the data\n",
        "\n"
      ],
      "metadata": {
        "id": "o8VO14Q4GHWt"
      }
    },
    {
      "cell_type": "code",
      "execution_count": 3,
      "metadata": {
        "colab": {
          "base_uri": "https://localhost:8080/"
        },
        "id": "gIJrh-ZVF_WW",
        "outputId": "c9db6542-b778-4994-e15e-6d758d9c0d36"
      },
      "outputs": [
        {
          "output_type": "stream",
          "name": "stdout",
          "text": [
            "Original DF1    Emp_ID     Name\n",
            "0       1    Alice\n",
            "1       2      Bob\n",
            "2       3  Charlie\n",
            "Original DF2    Emp_ID  Salary\n",
            "0       1   50000\n",
            "1       2   60000\n",
            "2       4   70000\n"
          ]
        }
      ],
      "source": [
        "#data Wrangling\n",
        "import pandas as pd\n",
        "# DataFrames\n",
        "df1 = pd.DataFrame({'Emp_ID': [1, 2, 3], 'Name': ['Alice', 'Bob', 'Charlie']})\n",
        "df2 = pd.DataFrame({'Emp_ID': [1, 2, 4], 'Salary': [50000, 60000, 70000]})\n",
        "print(\"Original DF1\",df1)\n",
        "print(\"Original DF2\",df2)\n"
      ]
    },
    {
      "cell_type": "code",
      "source": [
        "# INNER JOIN\n",
        "result = pd.merge(df1, df2, on='Emp_ID', how='inner')\n",
        "print(\"Inner Join:\\n\", result)\n"
      ],
      "metadata": {
        "colab": {
          "base_uri": "https://localhost:8080/"
        },
        "id": "nn8MrjC_GvRE",
        "outputId": "bc6cb7e3-af40-4eef-9db9-02d900af65d0"
      },
      "execution_count": 4,
      "outputs": [
        {
          "output_type": "stream",
          "name": "stdout",
          "text": [
            "Inner Join:\n",
            "    Emp_ID   Name  Salary\n",
            "0       1  Alice   50000\n",
            "1       2    Bob   60000\n"
          ]
        }
      ]
    },
    {
      "cell_type": "code",
      "source": [
        "# LEFT JOIN\n",
        "left_result = pd.merge(df1, df2, on='Emp_ID', how='left')\n",
        "print(\"Left Join:\\n\", left_result)\n"
      ],
      "metadata": {
        "colab": {
          "base_uri": "https://localhost:8080/"
        },
        "id": "XotZMd1zGvXU",
        "outputId": "f7d578e4-7655-475e-d86e-965e124e1b47"
      },
      "execution_count": 5,
      "outputs": [
        {
          "output_type": "stream",
          "name": "stdout",
          "text": [
            "Left Join:\n",
            "    Emp_ID     Name   Salary\n",
            "0       1    Alice  50000.0\n",
            "1       2      Bob  60000.0\n",
            "2       3  Charlie      NaN\n"
          ]
        }
      ]
    },
    {
      "cell_type": "code",
      "source": [
        "#Right Join\n",
        "result_right = pd.merge(df1, df2, on='Emp_ID', how='right')\n",
        "print(result_right)\n"
      ],
      "metadata": {
        "colab": {
          "base_uri": "https://localhost:8080/"
        },
        "id": "ElGYlZdWGvdA",
        "outputId": "b684dd31-a972-4776-bc70-4080a3f4b06a"
      },
      "execution_count": 6,
      "outputs": [
        {
          "output_type": "stream",
          "name": "stdout",
          "text": [
            "   Emp_ID   Name  Salary\n",
            "0       1  Alice   50000\n",
            "1       2    Bob   60000\n",
            "2       4    NaN   70000\n"
          ]
        }
      ]
    },
    {
      "cell_type": "code",
      "source": [
        "#Full Join\n",
        "full_join = pd.merge(df1, df2, on='Emp_ID', how='outer')\n",
        "print(full_join)\n"
      ],
      "metadata": {
        "colab": {
          "base_uri": "https://localhost:8080/"
        },
        "id": "4p8-ireoGvii",
        "outputId": "99ac54c6-ac4e-45e6-d3a4-e377fc867896"
      },
      "execution_count": 7,
      "outputs": [
        {
          "output_type": "stream",
          "name": "stdout",
          "text": [
            "   Emp_ID     Name   Salary\n",
            "0       1    Alice  50000.0\n",
            "1       2      Bob  60000.0\n",
            "2       3  Charlie      NaN\n",
            "3       4      NaN  70000.0\n"
          ]
        }
      ]
    },
    {
      "cell_type": "code",
      "source": [
        "#COMBINE:-ROW WISE\n",
        "import pandas as pd\n",
        "df1 = pd.DataFrame({\n",
        "    'ID': [1, 2],\n",
        "    'Name': ['Alice', 'Bob']\n",
        "})\n",
        "df2 = pd.DataFrame({\n",
        "    'ID': ['apple', 'boy'],\n",
        "    'Name': ['Charlie', 'David']})\n",
        "combined_rows = pd.concat([df1, df2], axis=0)\n",
        "print(combined_rows)\n"
      ],
      "metadata": {
        "colab": {
          "base_uri": "https://localhost:8080/"
        },
        "id": "3FL28nobGvn8",
        "outputId": "d9909f01-c2d5-448d-b3d8-24b62d941a30"
      },
      "execution_count": 9,
      "outputs": [
        {
          "output_type": "stream",
          "name": "stdout",
          "text": [
            "      ID     Name\n",
            "0      1    Alice\n",
            "1      2      Bob\n",
            "0  apple  Charlie\n",
            "1    boy    David\n"
          ]
        }
      ]
    },
    {
      "cell_type": "code",
      "source": [
        "\n",
        "#COMBINE:-COLUMN WISE(add a new column)\n",
        "df3 = pd.DataFrame({\n",
        "    'Age': [25, 30]\n",
        "})\n",
        "combined_cols = pd.concat([df1, df3], axis=1)\n",
        "print(combined_cols)\n"
      ],
      "metadata": {
        "colab": {
          "base_uri": "https://localhost:8080/"
        },
        "id": "yAlqQPTDHLvr",
        "outputId": "6da2e784-1532-4ddf-f159-d00bf275f8ae"
      },
      "execution_count": 10,
      "outputs": [
        {
          "output_type": "stream",
          "name": "stdout",
          "text": [
            "   ID   Name  Age\n",
            "0   1  Alice   25\n",
            "1   2    Bob   30\n"
          ]
        }
      ]
    },
    {
      "cell_type": "code",
      "source": [
        "#Pivot .\n",
        "# Pivot\n",
        "data = pd.DataFrame({\n",
        "    'Month': ['Jan', 'Jan', 'Feb', 'Feb'],\n",
        "    'Product': ['A', 'B', 'A', 'B'],\n",
        "    'Sales': [100, 200, 150, 250]\n",
        "})\n",
        "pivoted = data.pivot(index='Month', columns='Product', values='Sales')\n",
        "print(\"pivoted=\\n\",pivoted)\n",
        "\n"
      ],
      "metadata": {
        "colab": {
          "base_uri": "https://localhost:8080/"
        },
        "id": "qiKD6oDhHMC8",
        "outputId": "c7b5a2bd-d8f7-4585-8e79-380c1c38c4b9"
      },
      "execution_count": 13,
      "outputs": [
        {
          "output_type": "stream",
          "name": "stdout",
          "text": [
            "pivoted=\n",
            " Product    A    B\n",
            "Month            \n",
            "Feb      150  250\n",
            "Jan      100  200\n"
          ]
        }
      ]
    },
    {
      "cell_type": "code",
      "source": [
        "# Melt\n",
        "wide_df = pd.DataFrame({\n",
        "    'Month': ['Jan', 'Feb'],\n",
        "    'A': [100, 150],\n",
        "    'B': [200, 250]\n",
        "})\n",
        "\n",
        "\n",
        "melted = pd.melt(wide_df, id_vars='Month', var_name='Product', value_name='Sales')\n",
        "\n",
        "\n",
        "print(\"\\nMelted=\\n\",melted)\n"
      ],
      "metadata": {
        "colab": {
          "base_uri": "https://localhost:8080/"
        },
        "id": "eCcCDwISHMJE",
        "outputId": "4562c03c-27b9-4c78-ebb5-4a41a7094968"
      },
      "execution_count": 14,
      "outputs": [
        {
          "output_type": "stream",
          "name": "stdout",
          "text": [
            "\n",
            "Melted=\n",
            "   Month Product  Sales\n",
            "0   Jan       A    100\n",
            "1   Feb       A    150\n",
            "2   Jan       B    200\n",
            "3   Feb       B    250\n"
          ]
        }
      ]
    },
    {
      "cell_type": "code",
      "source": [
        "#Hierarchical Indexing;\n",
        "import pandas as pd\n",
        "index = pd.MultiIndex.from_tuples([('USA', 'NY'), ('USA', 'CA'), ('India', 'Delhi')], names=['Country', 'City'])\n",
        "df = pd.DataFrame({'Population': [8.6, 39.5, 18.9]}, index=index)\n",
        "print(df)"
      ],
      "metadata": {
        "colab": {
          "base_uri": "https://localhost:8080/"
        },
        "id": "sSHfjTpRHMO6",
        "outputId": "00d7ac13-88b5-41da-ff26-da428539071b"
      },
      "execution_count": 15,
      "outputs": [
        {
          "output_type": "stream",
          "name": "stdout",
          "text": [
            "               Population\n",
            "Country City             \n",
            "USA     NY            8.6\n",
            "        CA           39.5\n",
            "India   Delhi        18.9\n"
          ]
        }
      ]
    },
    {
      "cell_type": "code",
      "source": [
        "#24. Data Aggregation and Group Operations in Pandas\n",
        "import pandas as pd\n",
        "# Sample DataFrame\n",
        "data = {\n",
        "    'Name': ['Alice', 'Bob', 'Charlie', 'David'],\n",
        "    'Department': ['Sales', 'HR', 'IT', 'Sales'],\n",
        "    'Salary': [50000, 60000, 55000, 52000],\n",
        "    'Bonus': [5000, 6000, 4500, 5200]}\n",
        "df = pd.DataFrame(data)\n",
        " # Define a function to map department to category\n",
        "def map_department_to_category(dept):\n",
        "    if dept == 'Sales':\n",
        "        return 'Business'\n",
        "    elif dept == 'HR':\n",
        "        return 'Support'\n",
        "    elif dept == 'IT':\n",
        "        return 'Technical'\n",
        "    else:\n",
        "        return 'Other'\n",
        "# Grouping by applying function\n",
        "grouped_by_function = df.groupby(df['Department'].map(map_department_to_category)).sum()\n",
        "print(\"Grouping by Function:\\n\", grouped_by_function)\n"
      ],
      "metadata": {
        "colab": {
          "base_uri": "https://localhost:8080/"
        },
        "id": "XLdkdHqvHaaa",
        "outputId": "f7c5e225-7646-4601-cc85-10ac0309954e"
      },
      "execution_count": 17,
      "outputs": [
        {
          "output_type": "stream",
          "name": "stdout",
          "text": [
            "Grouping by Function:\n",
            "                   Name  Department  Salary  Bonus\n",
            "Department                                       \n",
            "Business    AliceDavid  SalesSales  102000  10200\n",
            "Support            Bob          HR   60000   6000\n",
            "Technical      Charlie          IT   55000   4500\n"
          ]
        }
      ]
    },
    {
      "cell_type": "code",
      "source": [
        "#Group Operations in Pandas\n",
        "\n",
        "import pandas as pd\n",
        "data = {\n",
        "    'Department': ['Sales', 'Sales', 'HR', 'HR', 'IT', 'IT', 'Sales', 'IT'],\n",
        "    'Employee': ['Alice', 'Bob', 'Charlie', 'David', 'Eve', 'Frank', 'Grace', 'Hank'],\n",
        "    'Salary': [50000, 60000, 45000, 47000, 70000, 72000, 52000, 73000],\n",
        "    'Bonus': [5000, 6000, 4500, 4700, 7000, 7200, 5200, 7300]\n",
        "}\n",
        "\n",
        "df = pd.DataFrame(data)\n",
        "print(\"Original Data frame\\n\",df)\n",
        "\n",
        "# cummin(), cummax(), cumsum(), cumprod()\n",
        "df.groupby('Department')['Salary'].cummin()\n",
        "df.groupby('Department')['Bonus'].cumsum()\n",
        "\n",
        "#first(), last()\n",
        "df.groupby('Department').first()\n",
        "df.groupby('Department').last()\n",
        "\n",
        "#mean(), median()\n",
        "df.groupby('Department')['Salary'].mean()\n",
        "df.groupby('Department')['Bonus'].median()\n",
        "\n",
        "#min(), max()\n",
        "df.groupby('Department')['Salary'].min()\n",
        "df.groupby('Department')['Bonus'].max()\n",
        "\n",
        "#nth()\n",
        "df.groupby('Department').nth(1)\n",
        "\n",
        "#ohlc()\n",
        "df.groupby('Department')['Salary'].ohlc()\n",
        "\n",
        "#prod()\n",
        "df.groupby('Department')['Salary'].prod()\n",
        "\n",
        "#quantile()\n",
        "df.groupby('Department')['Salary'].quantile(0.25)\n",
        "\n",
        "#rank()\n",
        "df.groupby('Department')['Salary'].rank()\n",
        "\n",
        "#size()\n",
        "df.groupby('Department').size()\n",
        "\n",
        "#sum()\n",
        "df.groupby('Department')['Salary'].sum()\n",
        "\n",
        "#std(), var()\n",
        "df.groupby('Department')['Salary'].std()\n",
        "df.groupby('Department')['Bonus'].var()\n"
      ],
      "metadata": {
        "colab": {
          "base_uri": "https://localhost:8080/",
          "height": 383
        },
        "id": "oucPGraKHagc",
        "outputId": "563b0958-a9c0-40c6-9061-418bbeed9b53"
      },
      "execution_count": 18,
      "outputs": [
        {
          "output_type": "stream",
          "name": "stdout",
          "text": [
            "Original Data frame\n",
            "   Department Employee  Salary  Bonus\n",
            "0      Sales    Alice   50000   5000\n",
            "1      Sales      Bob   60000   6000\n",
            "2         HR  Charlie   45000   4500\n",
            "3         HR    David   47000   4700\n",
            "4         IT      Eve   70000   7000\n",
            "5         IT    Frank   72000   7200\n",
            "6      Sales    Grace   52000   5200\n",
            "7         IT     Hank   73000   7300\n"
          ]
        },
        {
          "output_type": "execute_result",
          "data": {
            "text/plain": [
              "Department\n",
              "HR        20000.000000\n",
              "IT        23333.333333\n",
              "Sales    280000.000000\n",
              "Name: Bonus, dtype: float64"
            ],
            "text/html": [
              "<div>\n",
              "<style scoped>\n",
              "    .dataframe tbody tr th:only-of-type {\n",
              "        vertical-align: middle;\n",
              "    }\n",
              "\n",
              "    .dataframe tbody tr th {\n",
              "        vertical-align: top;\n",
              "    }\n",
              "\n",
              "    .dataframe thead th {\n",
              "        text-align: right;\n",
              "    }\n",
              "</style>\n",
              "<table border=\"1\" class=\"dataframe\">\n",
              "  <thead>\n",
              "    <tr style=\"text-align: right;\">\n",
              "      <th></th>\n",
              "      <th>Bonus</th>\n",
              "    </tr>\n",
              "    <tr>\n",
              "      <th>Department</th>\n",
              "      <th></th>\n",
              "    </tr>\n",
              "  </thead>\n",
              "  <tbody>\n",
              "    <tr>\n",
              "      <th>HR</th>\n",
              "      <td>20000.000000</td>\n",
              "    </tr>\n",
              "    <tr>\n",
              "      <th>IT</th>\n",
              "      <td>23333.333333</td>\n",
              "    </tr>\n",
              "    <tr>\n",
              "      <th>Sales</th>\n",
              "      <td>280000.000000</td>\n",
              "    </tr>\n",
              "  </tbody>\n",
              "</table>\n",
              "</div><br><label><b>dtype:</b> float64</label>"
            ]
          },
          "metadata": {},
          "execution_count": 18
        }
      ]
    },
    {
      "cell_type": "code",
      "source": [
        "#25. Perform statistical analysis and visualize:\n",
        "#Mean, median, standard deviation\n",
        "#Histogram and box plot of the data\n",
        "\n",
        "#mean(), median(),std()\n",
        "print(df.groupby('Department')['Salary'].mean())\n",
        "print(df.groupby('Department')['Bonus'].median())\n",
        "print(df.groupby('Department')['Salary'].std())\n",
        "\n"
      ],
      "metadata": {
        "colab": {
          "base_uri": "https://localhost:8080/"
        },
        "id": "1wnPYbPKHamX",
        "outputId": "048636c9-ff25-4147-f391-6cfe9177f534"
      },
      "execution_count": 21,
      "outputs": [
        {
          "output_type": "stream",
          "name": "stdout",
          "text": [
            "Department\n",
            "HR       46000.000000\n",
            "IT       71666.666667\n",
            "Sales    54000.000000\n",
            "Name: Salary, dtype: float64\n",
            "Department\n",
            "HR       4600.0\n",
            "IT       7200.0\n",
            "Sales    5200.0\n",
            "Name: Bonus, dtype: float64\n",
            "Department\n",
            "HR       1414.213562\n",
            "IT       1527.525232\n",
            "Sales    5291.502622\n",
            "Name: Salary, dtype: float64\n"
          ]
        }
      ]
    },
    {
      "cell_type": "code",
      "source": [
        "##Histogram and box plot of the data\n",
        "# Create a figure with two subplots\n",
        "import matplotlib.pyplot as plt\n",
        "fig, ax = plt.subplots(1, 2, figsize=(10, 5))\n",
        "# Histogram of Salary\n",
        "ax[0].hist(df['Salary'], bins=5, edgecolor='black')\n",
        "ax[0].set_title('Histogram of Salary')\n",
        "ax[0].set_xlabel('Salary')\n",
        "ax[0].set_ylabel('Frequency')\n",
        "# Box plot of Salary\n",
        "ax[1].boxplot(df['Salary'], vert=False)\n",
        "ax[1].set_title('Box Plot of Salary')\n",
        "# Layout so plots do not overlap\n",
        "fig.tight_layout()\n",
        "plt.show()\n"
      ],
      "metadata": {
        "colab": {
          "base_uri": "https://localhost:8080/",
          "height": 507
        },
        "id": "ThSipEkMH_gJ",
        "outputId": "0ccecd34-e797-43fb-a8bf-d619bb24b9e9"
      },
      "execution_count": 23,
      "outputs": [
        {
          "output_type": "display_data",
          "data": {
            "text/plain": [
              "<Figure size 1000x500 with 2 Axes>"
            ],
            "image/png": "[encoded data removed]"
          },
          "metadata": {}
        }
      ]
    }
  ]
}
