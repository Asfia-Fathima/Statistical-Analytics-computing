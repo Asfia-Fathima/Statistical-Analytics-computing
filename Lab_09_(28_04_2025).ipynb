{
  "nbformat": 4,
  "nbformat_minor": 0,
  "metadata": {
    "colab": {
      "provenance": [],
      "gpuType": "T4",
      "authorship_tag": "ABX9TyPpm73T+8fhrgaBOCvUka8J",
      "include_colab_link": true
    },
    "kernelspec": {
      "name": "python3",
      "display_name": "Python 3"
    },
    "language_info": {
      "name": "python"
    },
    "accelerator": "GPU"
  },
  "cells": [
    {
      "cell_type": "markdown",
      "metadata": {
        "id": "view-in-github",
        "colab_type": "text"
      },
      "source": [
        "<a href=\"https://colab.research.google.com/github/Asfia-Fathima/Statistical-Analytics-computing/blob/main/Lab_9_(28_04_2025).ipynb\" target=\"_parent\"><img src=\"https://colab.research.google.com/assets/colab-badge.svg\" alt=\"Open In Colab\"/></a>"
      ]
    },
    {
      "cell_type": "markdown",
      "source": [
        "this includes-\n",
        "\n",
        "~20-Implement the following queries using SQLite\n",
        "\n",
        "~21-Implement the data transformation in python using Pandas\n",
        "\n",
        "~22-Implement String Manipulation Functions in Python\n",
        "\n"
      ],
      "metadata": {
        "id": "WCRooTazDdZ0"
      }
    },
    {
      "cell_type": "code",
      "source": [
        "# Step 1: Import Library\n",
        "import sqlite3\n",
        "print(\"Step 1: sqlite3 library imported successfully.\\n\")\n",
        "# Step 2: Connect to Database\n",
        "conn = sqlite3.connect(r'D:\\student_new.db')\n",
        "cursor = conn.cursor()\n",
        "print(\"Step 2: Connected to database 'student_new.db' in D drive.\\n\")\n",
        "# Step 3: Create a Table\n",
        "cursor.execute('''\n",
        "    CREATE TABLE IF NOT EXISTS students (\n",
        "        id INTEGER PRIMARY KEY,\n",
        "        name TEXT,\n",
        "        age INTEGER\n",
        "    )\n",
        "''')\n",
        "conn.commit()\n",
        "print(\"Step 3: Table 'students' created successfully (if not already exists).\\n\")\n",
        "# Step 4: Insert Records\n",
        "cursor.execute(\"INSERT INTO students (name, age) VALUES (?, ?)\", ('Alice', 21))\n",
        "cursor.execute(\"INSERT INTO students (name, age) VALUES (?, ?)\", ('Bob', 22))\n",
        "conn.commit()\n",
        "print(\"Step 4: Two records inserted into 'students' table.\\n\")\n",
        "# Step 5: Display Records\n",
        "cursor.execute(\"SELECT * FROM students\")\n",
        "rows = cursor.fetchall()\n",
        "print(\"Step 5: Displaying all records in 'students' table:\")\n",
        "for row in rows:\n",
        "    print(row)\n",
        "print()\n",
        "# Step 6: Add New Column\n",
        "cursor.execute(\"ALTER TABLE students ADD COLUMN grade TEXT\")\n",
        "conn.commit()\n",
        "print(\"Step 6: Column 'grade' added to 'students' table.\\n\")\n",
        "# Step 7: Update Records\n",
        "cursor.execute(\"UPDATE students SET age = 23 WHERE name = 'Bob'\")\n",
        "conn.commit()\n",
        "print(\"Step 7: Updated 'Bob's age to 23.\\n\")\n",
        "# Step 8: Delete a Record\n",
        "cursor.execute(\"DELETE FROM students WHERE name = 'Alice'\")\n",
        "conn.commit()\n",
        "print(\"Step 8: Deleted record where name is 'Alice'.\\n\")\n",
        "# Step 9: Display Records After Deletion\n",
        "cursor.execute(\"SELECT * FROM students\")\n",
        "rows = cursor.fetchall()\n",
        "print(\"Step 9: Displaying records after deletion:\")\n",
        "for row in rows:\n",
        "    print(row)\n",
        "print()\n",
        "# Step 10: Drop the Table (Optional)\n",
        "# cursor.execute(\"DROP TABLE IF EXISTS students\")\n",
        "# conn.commit()\n",
        "# print(\"Step 10: Dropped the 'students' table.\\n\")\n",
        "# Step 11: Close the Connection\n",
        "conn.close()\n",
        "print(\"Step 11: Database connection closed.\\n\")\n"
      ],
      "metadata": {
        "colab": {
          "base_uri": "https://localhost:8080/"
        },
        "id": "ryLP6CSHFI-J",
        "outputId": "aacc6a78-0fbb-4619-fce5-8baf593e4b2c"
      },
      "execution_count": 30,
      "outputs": [
        {
          "output_type": "stream",
          "name": "stdout",
          "text": [
            "Step 1: sqlite3 library imported successfully.\n",
            "\n",
            "Step 2: Connected to database 'student_new.db' in D drive.\n",
            "\n",
            "Step 3: Table 'students' created successfully (if not already exists).\n",
            "\n",
            "Step 4: Two records inserted into 'students' table.\n",
            "\n",
            "Step 5: Displaying all records in 'students' table:\n",
            "(1, 'Alice', 21)\n",
            "(2, 'Bob', 22)\n",
            "\n",
            "Step 6: Column 'grade' added to 'students' table.\n",
            "\n",
            "Step 7: Updated 'Bob's age to 23.\n",
            "\n",
            "Step 8: Deleted record where name is 'Alice'.\n",
            "\n",
            "Step 9: Displaying records after deletion:\n",
            "(2, 'Bob', 23, None)\n",
            "\n",
            "Step 11: Database connection closed.\n",
            "\n"
          ]
        }
      ]
    },
    {
      "cell_type": "code",
      "source": [
        "import pandas as pd\n",
        "import numpy as np\n",
        "# Sample dataset\n",
        "data = {\n",
        "    'Name': ['Alice', 'Bob', 'Charlie', 'Alice', 'Eve', 'Frank', 'Grace', 'Heidi'],\n",
        "    'Age': [25, 30, 35, 25, 29, 45, 50, 22],\n",
        "    'Score': [88, 90, 85, 88, 76, 95, 67, 70],\n",
        "    'Gender': ['F', 'M', 'M', 'F', 'F', 'M', 'F', 'F']\n",
        "}\n",
        "df = pd.DataFrame(data)\n",
        "print(\"Original DataFrame:\")\n",
        "print(df)\n",
        "# 1. Removing Duplicates\n",
        "df = df.drop_duplicates()\n",
        "print(\"\\nAfter Removing Duplicates:\")\n",
        "print(df)\n",
        "# 2. Adding a Column\n",
        "df['Pass'] = df['Score'] >= 75\n",
        "print(\"\\nAfter Adding 'Pass' Column:\")\n",
        "print(df)\n",
        "# 3. Replacing Values\n",
        "df['Gender'] = df['Gender'].replace({'F': 'Female', 'M': 'Male'})\n",
        "print(\"\\nAfter Replacing Gender Values:\")\n",
        "print(df)\n",
        "# 4. Renaming Axis / Index\n",
        "df.rename(index={0: 'ID001', 1: 'ID002'}, inplace=True)\n",
        "print(\"\\nAfter Renaming Index:\")\n",
        "print(df)\n",
        "# 5. Discretization / Binning Age\n",
        "df['Age_Group'] = pd.cut(df['Age'], bins=[0, 25, 35, 50], labels=['Young', 'Middle-aged', 'Senior'])\n",
        "print(\"\\nAfter Binning 'Age' into Age_Group:\")\n",
        "print(df)\n",
        "\n",
        "# 6. Detecting and Filtering Outliers in Score (IQR Method)\n",
        "Q1 = df['Score'].quantile(0.25)\n",
        "Q3 = df['Score'].quantile(0.75)\n",
        "IQR = Q3 - Q1\n",
        "filtered_df = df[(df['Score'] >= Q1 - 1.5 * IQR) & (df['Score'] <= Q3 + 1.5 * IQR)]\n",
        "print(\"\\nAfter Filtering Outliers in 'Score':\")\n",
        "print(filtered_df)\n",
        "\n",
        "# 7. Permutation and Random Sampling\n",
        "shuffled_age = np.random.permutation(df['Age'].values)\n",
        "df['Age'] = shuffled_age\n",
        "sample_df = df.sample(n=3, random_state=1)\n",
        "print(\"\\nShuffled DataFrame:\")\n",
        "print(shuffled_age)\n",
        "print(\"\\nRandom Sample of 3 Rows:\")\n",
        "print(sample_df)\n",
        "\n"
      ],
      "metadata": {
        "colab": {
          "base_uri": "https://localhost:8080/"
        },
        "id": "-73aQ5p-De0V",
        "outputId": "753cfa99-6b9b-494b-d272-a75d53387ca2"
      },
      "execution_count": 27,
      "outputs": [
        {
          "output_type": "stream",
          "name": "stdout",
          "text": [
            "Original DataFrame:\n",
            "      Name  Age  Score Gender\n",
            "0    Alice   25     88      F\n",
            "1      Bob   30     90      M\n",
            "2  Charlie   35     85      M\n",
            "3    Alice   25     88      F\n",
            "4      Eve   29     76      F\n",
            "5    Frank   45     95      M\n",
            "6    Grace   50     67      F\n",
            "7    Heidi   22     70      F\n",
            "\n",
            "After Removing Duplicates:\n",
            "      Name  Age  Score Gender\n",
            "0    Alice   25     88      F\n",
            "1      Bob   30     90      M\n",
            "2  Charlie   35     85      M\n",
            "4      Eve   29     76      F\n",
            "5    Frank   45     95      M\n",
            "6    Grace   50     67      F\n",
            "7    Heidi   22     70      F\n",
            "\n",
            "After Adding 'Pass' Column:\n",
            "      Name  Age  Score Gender   Pass\n",
            "0    Alice   25     88      F   True\n",
            "1      Bob   30     90      M   True\n",
            "2  Charlie   35     85      M   True\n",
            "4      Eve   29     76      F   True\n",
            "5    Frank   45     95      M   True\n",
            "6    Grace   50     67      F  False\n",
            "7    Heidi   22     70      F  False\n",
            "\n",
            "After Replacing Gender Values:\n",
            "      Name  Age  Score  Gender   Pass\n",
            "0    Alice   25     88  Female   True\n",
            "1      Bob   30     90    Male   True\n",
            "2  Charlie   35     85    Male   True\n",
            "4      Eve   29     76  Female   True\n",
            "5    Frank   45     95    Male   True\n",
            "6    Grace   50     67  Female  False\n",
            "7    Heidi   22     70  Female  False\n",
            "\n",
            "After Renaming Index:\n",
            "          Name  Age  Score  Gender   Pass\n",
            "ID001    Alice   25     88  Female   True\n",
            "ID002      Bob   30     90    Male   True\n",
            "2      Charlie   35     85    Male   True\n",
            "4          Eve   29     76  Female   True\n",
            "5        Frank   45     95    Male   True\n",
            "6        Grace   50     67  Female  False\n",
            "7        Heidi   22     70  Female  False\n",
            "\n",
            "After Binning 'Age' into Age_Group:\n",
            "          Name  Age  Score  Gender   Pass    Age_Group\n",
            "ID001    Alice   25     88  Female   True        Young\n",
            "ID002      Bob   30     90    Male   True  Middle-aged\n",
            "2      Charlie   35     85    Male   True  Middle-aged\n",
            "4          Eve   29     76  Female   True  Middle-aged\n",
            "5        Frank   45     95    Male   True       Senior\n",
            "6        Grace   50     67  Female  False       Senior\n",
            "7        Heidi   22     70  Female  False        Young\n",
            "\n",
            "After Filtering Outliers in 'Score':\n",
            "          Name  Age  Score  Gender   Pass    Age_Group\n",
            "ID001    Alice   25     88  Female   True        Young\n",
            "ID002      Bob   30     90    Male   True  Middle-aged\n",
            "2      Charlie   35     85    Male   True  Middle-aged\n",
            "4          Eve   29     76  Female   True  Middle-aged\n",
            "5        Frank   45     95    Male   True       Senior\n",
            "6        Grace   50     67  Female  False       Senior\n",
            "7        Heidi   22     70  Female  False        Young\n",
            "\n",
            "Shuffled DataFrame:\n",
            "[22 30 35 50 29 25 45]\n",
            "\n",
            "Random Sample of 3 Rows:\n",
            "          Name  Age  Score  Gender   Pass    Age_Group\n",
            "7        Heidi   45     70  Female  False        Young\n",
            "2      Charlie   35     85    Male   True  Middle-aged\n",
            "ID002      Bob   30     90    Male   True  Middle-aged\n"
          ]
        }
      ]
    },
    {
      "cell_type": "code",
      "execution_count": 26,
      "metadata": {
        "colab": {
          "base_uri": "https://localhost:8080/"
        },
        "id": "ipxOvgFXDW-y",
        "outputId": "0bad5fba-8f85-4f0b-8368-2117fc4042d1"
      },
      "outputs": [
        {
          "output_type": "stream",
          "name": "stdout",
          "text": [
            "HELLO WORLD\n",
            "hello world\n",
            "Hello World\n",
            "Hello world\n"
          ]
        }
      ],
      "source": [
        "## 22. Implement String Manipulation Functions in Python\n",
        "# Case Conversion Methods\n",
        "text = 'hello world'\n",
        "print(text.upper() )\n",
        "print(text.lower())\n",
        "print(text.title())\n",
        "print(text.capitalize() )\n"
      ]
    },
    {
      "cell_type": "code",
      "source": [
        "##2. strip methods\n",
        "s = '  Python '\n",
        "print(s.strip() )\n",
        "print(s.lstrip() )\n",
        "print(s.rstrip() )\n"
      ],
      "metadata": {
        "colab": {
          "base_uri": "https://localhost:8080/"
        },
        "id": "S_NPwgzUEOiN",
        "outputId": "8505e0af-765a-4d17-b3f1-655b5d06b5bf"
      },
      "execution_count": 15,
      "outputs": [
        {
          "output_type": "stream",
          "name": "stdout",
          "text": [
            "Python\n",
            "Python \n",
            "  Python\n"
          ]
        }
      ]
    },
    {
      "cell_type": "code",
      "source": [
        "##3. replace()\n",
        "text = 'data science'\n",
        "print(text.replace('data', 'AI'))\n"
      ],
      "metadata": {
        "colab": {
          "base_uri": "https://localhost:8080/"
        },
        "id": "KDx-zMBLEOoj",
        "outputId": "d068c1f9-07a0-4fe6-cb07-045033e51548"
      },
      "execution_count": 16,
      "outputs": [
        {
          "output_type": "stream",
          "name": "stdout",
          "text": [
            "AI science\n"
          ]
        }
      ]
    },
    {
      "cell_type": "code",
      "source": [
        "#4. split() and join()\n",
        "sentence = 'AI,ML,DL'\n",
        "sentence.split(',')\n"
      ],
      "metadata": {
        "colab": {
          "base_uri": "https://localhost:8080/"
        },
        "id": "z_I0LRJKETJU",
        "outputId": "e20c7afd-fb37-4120-d433-ea91f5372491"
      },
      "execution_count": 17,
      "outputs": [
        {
          "output_type": "execute_result",
          "data": {
            "text/plain": [
              "['AI', 'ML', 'DL']"
            ]
          },
          "metadata": {},
          "execution_count": 17
        }
      ]
    },
    {
      "cell_type": "code",
      "source": [
        "words = ['Data', 'Science']\n",
        "' '.join(words)\n"
      ],
      "metadata": {
        "colab": {
          "base_uri": "https://localhost:8080/",
          "height": 36
        },
        "id": "MaVHkdwRETPF",
        "outputId": "64a19c6f-d9d7-474e-b752-f2c684847bee"
      },
      "execution_count": 18,
      "outputs": [
        {
          "output_type": "execute_result",
          "data": {
            "text/plain": [
              "'Data Science'"
            ],
            "application/vnd.google.colaboratory.intrinsic+json": {
              "type": "string"
            }
          },
          "metadata": {},
          "execution_count": 18
        }
      ]
    },
    {
      "cell_type": "code",
      "source": [
        "# 5. find() and index()\n",
        "msg = 'machine learning'\n",
        "msg.find('learn')   # 8\n",
        "msg.index('learn')  # 8\n"
      ],
      "metadata": {
        "colab": {
          "base_uri": "https://localhost:8080/"
        },
        "id": "ww7eBcKvETUq",
        "outputId": "96bf8728-3b70-49dd-ef11-4fc1e23a2bdc"
      },
      "execution_count": 19,
      "outputs": [
        {
          "output_type": "execute_result",
          "data": {
            "text/plain": [
              "8"
            ]
          },
          "metadata": {},
          "execution_count": 19
        }
      ]
    },
    {
      "cell_type": "code",
      "source": [
        "# 5. find() and index()\n",
        "msg = 'machine learning'\n",
        "msg.find('learn')   # 8\n",
        "msg.index('learn')  # 8\n"
      ],
      "metadata": {
        "colab": {
          "base_uri": "https://localhost:8080/"
        },
        "id": "7GuYMoRtEYBq",
        "outputId": "47b21c8b-938e-459f-c94f-b4c864ada988"
      },
      "execution_count": 20,
      "outputs": [
        {
          "output_type": "execute_result",
          "data": {
            "text/plain": [
              "8"
            ]
          },
          "metadata": {},
          "execution_count": 20
        }
      ]
    },
    {
      "cell_type": "code",
      "source": [
        "## 7. count()\n",
        "text = 'banana'\n",
        "text.count('a')  # 3\n"
      ],
      "metadata": {
        "colab": {
          "base_uri": "https://localhost:8080/"
        },
        "id": "oH2-bF7wEYIB",
        "outputId": "4f3a5a13-c033-4294-93da-52e7726c29b4"
      },
      "execution_count": 21,
      "outputs": [
        {
          "output_type": "execute_result",
          "data": {
            "text/plain": [
              "3"
            ]
          },
          "metadata": {},
          "execution_count": 21
        }
      ]
    },
    {
      "cell_type": "code",
      "source": [
        "## 8. isalpha(), isdigit(), isalnum(), isspace()\n",
        "'abc'.isalpha()    # True\n",
        "'123'.isdigit()    # True\n",
        "'abc123'.isalnum() # True\n",
        "'   '.isspace()    # True\n"
      ],
      "metadata": {
        "colab": {
          "base_uri": "https://localhost:8080/"
        },
        "id": "bB-tJSRfEgIX",
        "outputId": "9b7b1452-18b7-45d5-ba6d-4a8ca3dd84da"
      },
      "execution_count": 22,
      "outputs": [
        {
          "output_type": "execute_result",
          "data": {
            "text/plain": [
              "True"
            ]
          },
          "metadata": {},
          "execution_count": 22
        }
      ]
    },
    {
      "cell_type": "code",
      "source": [
        "\n",
        "## 9. zfill()\n",
        "num = '42'\n",
        "num.zfill(5)  # '00042'\n",
        "\n"
      ],
      "metadata": {
        "colab": {
          "base_uri": "https://localhost:8080/",
          "height": 36
        },
        "id": "8TLfXtAUEgOV",
        "outputId": "a4836919-a81d-4b7e-c6b5-41a6d926a898"
      },
      "execution_count": 23,
      "outputs": [
        {
          "output_type": "execute_result",
          "data": {
            "text/plain": [
              "'00042'"
            ],
            "application/vnd.google.colaboratory.intrinsic+json": {
              "type": "string"
            }
          },
          "metadata": {},
          "execution_count": 23
        }
      ]
    },
    {
      "cell_type": "code",
      "source": [
        "## 10. format() and f-strings\n",
        "name = 'Alice'\n",
        "score = 95\n",
        "\"Name: {}, Score: {}\".format(name, score)\n",
        "f\"Name: {name}, Score: {score}\"\n"
      ],
      "metadata": {
        "colab": {
          "base_uri": "https://localhost:8080/",
          "height": 36
        },
        "id": "ytqmmhulEgT9",
        "outputId": "06ac5715-3d12-4a82-b307-e4e006dc16aa"
      },
      "execution_count": 24,
      "outputs": [
        {
          "output_type": "execute_result",
          "data": {
            "text/plain": [
              "'Name: Alice, Score: 95'"
            ],
            "application/vnd.google.colaboratory.intrinsic+json": {
              "type": "string"
            }
          },
          "metadata": {},
          "execution_count": 24
        }
      ]
    },
    {
      "cell_type": "code",
      "source": [
        "## 11. casefold()\n",
        "\"Straße\".casefold() == \"strasse\"\n"
      ],
      "metadata": {
        "colab": {
          "base_uri": "https://localhost:8080/"
        },
        "id": "LH5ucJmNE01I",
        "outputId": "46c04c97-f5e3-4097-8fe8-67132849c89b"
      },
      "execution_count": 25,
      "outputs": [
        {
          "output_type": "execute_result",
          "data": {
            "text/plain": [
              "True"
            ]
          },
          "metadata": {},
          "execution_count": 25
        }
      ]
    }
  ]
}
